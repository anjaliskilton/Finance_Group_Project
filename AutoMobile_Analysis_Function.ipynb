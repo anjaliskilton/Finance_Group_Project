{
 "cells": [
  {
   "cell_type": "code",
   "execution_count": 315,
   "id": "ff5457a8",
   "metadata": {},
   "outputs": [],
   "source": [
    "import pandas as pd\n",
    "import hvplot.pandas\n",
    "from pathlib import Path\n",
    "import plotly.express as px\n",
    "import matplotlib.pyplot as plt\n",
    "from sklearn.preprocessing import StandardScaler\n",
    "from sklearn.preprocessing import MinMaxScaler\n",
    "from sklearn import preprocessing"
   ]
  },
  {
   "cell_type": "code",
   "execution_count": null,
   "id": "2d681aee",
   "metadata": {},
   "outputs": [],
   "source": []
  },
  {
   "cell_type": "code",
   "execution_count": 318,
   "id": "5f7e3ea9",
   "metadata": {},
   "outputs": [],
   "source": [
    "\n",
    "def minMaxScale(df):\n",
    "    columns = ['High','Low','Volume']\n",
    "    min_max_scaler = preprocessing.MinMaxScaler()\n",
    "    normDf = df.copy()\n",
    "    normDf[columns] = pd.DataFrame(min_max_scaler.fit_transform(normDf[columns]))\n",
    "    return normDf\n",
    "\n",
    "def readStock(filename):\n",
    "    basePath = \"/Users/shreya/dev/PROJECT_1/Finance_group_project/Resources/\"\n",
    "    filePath = basePath+filename\n",
    "    df = pd.read_csv(filePath).dropna()\n",
    "    df['Date'] = pd.to_datetime(df['Date'])\n",
    "    df1 = df[['Date','High','Low','Volume']]\n",
    "    \n",
    "\n",
    "    return minMaxScale(df1)\n",
    "\n"
   ]
  },
  {
   "cell_type": "code",
   "execution_count": null,
   "id": "f0cfb5ee",
   "metadata": {},
   "outputs": [],
   "source": []
  },
  {
   "cell_type": "code",
   "execution_count": 319,
   "id": "7496505c",
   "metadata": {},
   "outputs": [],
   "source": [
    "fordDf = readStock(\"Ford.csv\")\n",
    "gmDf= readStock(\"GM.csv\")\n",
    "mahindraDf= readStock(\"M&M.NS.csv\")\n",
    "marutiDf= readStock(\"MARUTI.NS.csv\")\n",
    "mercedesDf= readStock(\"MARUTI.NS.csv\")\n",
    "stlaDf= readStock(\"STLA.csv\")\n",
    "tataMotorsDf= readStock(\"TATAMOTORS.csv\")\n",
    "toyotaDf= readStock(\"Toyota.csv\")\n",
    "teslaDf = readStock(\"TSLA.csv\")\n",
    "vow3Df= readStock(\"VOW3.DE.csv\")"
   ]
  },
  {
   "cell_type": "code",
   "execution_count": 320,
   "id": "6176082b",
   "metadata": {},
   "outputs": [
    {
     "data": {
      "text/html": [
       "<div>\n",
       "<style scoped>\n",
       "    .dataframe tbody tr th:only-of-type {\n",
       "        vertical-align: middle;\n",
       "    }\n",
       "\n",
       "    .dataframe tbody tr th {\n",
       "        vertical-align: top;\n",
       "    }\n",
       "\n",
       "    .dataframe thead th {\n",
       "        text-align: right;\n",
       "    }\n",
       "</style>\n",
       "<table border=\"1\" class=\"dataframe\">\n",
       "  <thead>\n",
       "    <tr style=\"text-align: right;\">\n",
       "      <th></th>\n",
       "      <th>Date</th>\n",
       "      <th>High</th>\n",
       "      <th>Low</th>\n",
       "      <th>Volume</th>\n",
       "    </tr>\n",
       "  </thead>\n",
       "  <tbody>\n",
       "    <tr>\n",
       "      <th>0</th>\n",
       "      <td>2013-01-02</td>\n",
       "      <td>0.413054</td>\n",
       "      <td>0.442920</td>\n",
       "      <td>0.223784</td>\n",
       "    </tr>\n",
       "    <tr>\n",
       "      <th>1</th>\n",
       "      <td>2013-01-03</td>\n",
       "      <td>0.432634</td>\n",
       "      <td>0.445370</td>\n",
       "      <td>0.374876</td>\n",
       "    </tr>\n",
       "    <tr>\n",
       "      <th>2</th>\n",
       "      <td>2013-01-04</td>\n",
       "      <td>0.428438</td>\n",
       "      <td>0.460069</td>\n",
       "      <td>0.156120</td>\n",
       "    </tr>\n",
       "    <tr>\n",
       "      <th>3</th>\n",
       "      <td>2013-01-07</td>\n",
       "      <td>0.427040</td>\n",
       "      <td>0.460069</td>\n",
       "      <td>0.119381</td>\n",
       "    </tr>\n",
       "    <tr>\n",
       "      <th>4</th>\n",
       "      <td>2013-01-08</td>\n",
       "      <td>0.420047</td>\n",
       "      <td>0.452719</td>\n",
       "      <td>0.128753</td>\n",
       "    </tr>\n",
       "    <tr>\n",
       "      <th>5</th>\n",
       "      <td>2013-01-09</td>\n",
       "      <td>0.427972</td>\n",
       "      <td>0.462028</td>\n",
       "      <td>0.098008</td>\n",
       "    </tr>\n",
       "    <tr>\n",
       "      <th>6</th>\n",
       "      <td>2013-01-10</td>\n",
       "      <td>0.443823</td>\n",
       "      <td>0.476237</td>\n",
       "      <td>0.255341</td>\n",
       "    </tr>\n",
       "    <tr>\n",
       "      <th>7</th>\n",
       "      <td>2013-01-11</td>\n",
       "      <td>0.449883</td>\n",
       "      <td>0.487016</td>\n",
       "      <td>0.198716</td>\n",
       "    </tr>\n",
       "    <tr>\n",
       "      <th>8</th>\n",
       "      <td>2013-01-14</td>\n",
       "      <td>0.450350</td>\n",
       "      <td>0.485056</td>\n",
       "      <td>0.128387</td>\n",
       "    </tr>\n",
       "    <tr>\n",
       "      <th>9</th>\n",
       "      <td>2013-01-15</td>\n",
       "      <td>0.460606</td>\n",
       "      <td>0.486526</td>\n",
       "      <td>0.158600</td>\n",
       "    </tr>\n",
       "  </tbody>\n",
       "</table>\n",
       "</div>"
      ],
      "text/plain": [
       "        Date      High       Low    Volume\n",
       "0 2013-01-02  0.413054  0.442920  0.223784\n",
       "1 2013-01-03  0.432634  0.445370  0.374876\n",
       "2 2013-01-04  0.428438  0.460069  0.156120\n",
       "3 2013-01-07  0.427040  0.460069  0.119381\n",
       "4 2013-01-08  0.420047  0.452719  0.128753\n",
       "5 2013-01-09  0.427972  0.462028  0.098008\n",
       "6 2013-01-10  0.443823  0.476237  0.255341\n",
       "7 2013-01-11  0.449883  0.487016  0.198716\n",
       "8 2013-01-14  0.450350  0.485056  0.128387\n",
       "9 2013-01-15  0.460606  0.486526  0.158600"
      ]
     },
     "execution_count": 320,
     "metadata": {},
     "output_type": "execute_result"
    }
   ],
   "source": [
    "fordDf.head(10)"
   ]
  },
  {
   "cell_type": "code",
   "execution_count": 321,
   "id": "59accbec",
   "metadata": {},
   "outputs": [],
   "source": [
    "AutoMobile_df = pd.concat([fordDf,gmDf,mahindraDf,mercedesDf,stlaDf,\n",
    "                          tataMotorsDf,toyotaDf,teslaDf,vow3Df])"
   ]
  },
  {
   "cell_type": "code",
   "execution_count": 322,
   "id": "17a03be4",
   "metadata": {},
   "outputs": [
    {
     "data": {
      "text/html": [
       "<div>\n",
       "<style scoped>\n",
       "    .dataframe tbody tr th:only-of-type {\n",
       "        vertical-align: middle;\n",
       "    }\n",
       "\n",
       "    .dataframe tbody tr th {\n",
       "        vertical-align: top;\n",
       "    }\n",
       "\n",
       "    .dataframe thead th {\n",
       "        text-align: right;\n",
       "    }\n",
       "</style>\n",
       "<table border=\"1\" class=\"dataframe\">\n",
       "  <thead>\n",
       "    <tr style=\"text-align: right;\">\n",
       "      <th></th>\n",
       "      <th>Date</th>\n",
       "      <th>High</th>\n",
       "      <th>Low</th>\n",
       "      <th>Volume</th>\n",
       "    </tr>\n",
       "  </thead>\n",
       "  <tbody>\n",
       "    <tr>\n",
       "      <th>0</th>\n",
       "      <td>2013-01-02</td>\n",
       "      <td>0.413054</td>\n",
       "      <td>0.442920</td>\n",
       "      <td>0.223784</td>\n",
       "    </tr>\n",
       "    <tr>\n",
       "      <th>1</th>\n",
       "      <td>2013-01-03</td>\n",
       "      <td>0.432634</td>\n",
       "      <td>0.445370</td>\n",
       "      <td>0.374876</td>\n",
       "    </tr>\n",
       "    <tr>\n",
       "      <th>2</th>\n",
       "      <td>2013-01-04</td>\n",
       "      <td>0.428438</td>\n",
       "      <td>0.460069</td>\n",
       "      <td>0.156120</td>\n",
       "    </tr>\n",
       "    <tr>\n",
       "      <th>3</th>\n",
       "      <td>2013-01-07</td>\n",
       "      <td>0.427040</td>\n",
       "      <td>0.460069</td>\n",
       "      <td>0.119381</td>\n",
       "    </tr>\n",
       "    <tr>\n",
       "      <th>4</th>\n",
       "      <td>2013-01-08</td>\n",
       "      <td>0.420047</td>\n",
       "      <td>0.452719</td>\n",
       "      <td>0.128753</td>\n",
       "    </tr>\n",
       "    <tr>\n",
       "      <th>5</th>\n",
       "      <td>2013-01-09</td>\n",
       "      <td>0.427972</td>\n",
       "      <td>0.462028</td>\n",
       "      <td>0.098008</td>\n",
       "    </tr>\n",
       "    <tr>\n",
       "      <th>6</th>\n",
       "      <td>2013-01-10</td>\n",
       "      <td>0.443823</td>\n",
       "      <td>0.476237</td>\n",
       "      <td>0.255341</td>\n",
       "    </tr>\n",
       "    <tr>\n",
       "      <th>7</th>\n",
       "      <td>2013-01-11</td>\n",
       "      <td>0.449883</td>\n",
       "      <td>0.487016</td>\n",
       "      <td>0.198716</td>\n",
       "    </tr>\n",
       "    <tr>\n",
       "      <th>8</th>\n",
       "      <td>2013-01-14</td>\n",
       "      <td>0.450350</td>\n",
       "      <td>0.485056</td>\n",
       "      <td>0.128387</td>\n",
       "    </tr>\n",
       "    <tr>\n",
       "      <th>9</th>\n",
       "      <td>2013-01-15</td>\n",
       "      <td>0.460606</td>\n",
       "      <td>0.486526</td>\n",
       "      <td>0.158600</td>\n",
       "    </tr>\n",
       "  </tbody>\n",
       "</table>\n",
       "</div>"
      ],
      "text/plain": [
       "        Date      High       Low    Volume\n",
       "0 2013-01-02  0.413054  0.442920  0.223784\n",
       "1 2013-01-03  0.432634  0.445370  0.374876\n",
       "2 2013-01-04  0.428438  0.460069  0.156120\n",
       "3 2013-01-07  0.427040  0.460069  0.119381\n",
       "4 2013-01-08  0.420047  0.452719  0.128753\n",
       "5 2013-01-09  0.427972  0.462028  0.098008\n",
       "6 2013-01-10  0.443823  0.476237  0.255341\n",
       "7 2013-01-11  0.449883  0.487016  0.198716\n",
       "8 2013-01-14  0.450350  0.485056  0.128387\n",
       "9 2013-01-15  0.460606  0.486526  0.158600"
      ]
     },
     "execution_count": 322,
     "metadata": {},
     "output_type": "execute_result"
    }
   ],
   "source": [
    "AutoMobile_df.head(10)"
   ]
  },
  {
   "cell_type": "code",
   "execution_count": 323,
   "id": "e81c5ac5",
   "metadata": {},
   "outputs": [
    {
     "name": "stdout",
     "output_type": "stream",
     "text": [
      "<class 'pandas.core.frame.DataFrame'>\n",
      "Int64Index: 22688 entries, 0 to 2549\n",
      "Data columns (total 4 columns):\n",
      " #   Column  Non-Null Count  Dtype         \n",
      "---  ------  --------------  -----         \n",
      " 0   Date    22688 non-null  datetime64[ns]\n",
      " 1   High    22684 non-null  float64       \n",
      " 2   Low     22684 non-null  float64       \n",
      " 3   Volume  22684 non-null  float64       \n",
      "dtypes: datetime64[ns](1), float64(3)\n",
      "memory usage: 886.2 KB\n"
     ]
    }
   ],
   "source": [
    "AutoMobile_df.info()"
   ]
  },
  {
   "cell_type": "code",
   "execution_count": 324,
   "id": "ec121023",
   "metadata": {},
   "outputs": [
    {
     "data": {
      "text/html": [
       "<div>\n",
       "<style scoped>\n",
       "    .dataframe tbody tr th:only-of-type {\n",
       "        vertical-align: middle;\n",
       "    }\n",
       "\n",
       "    .dataframe tbody tr th {\n",
       "        vertical-align: top;\n",
       "    }\n",
       "\n",
       "    .dataframe thead th {\n",
       "        text-align: right;\n",
       "    }\n",
       "</style>\n",
       "<table border=\"1\" class=\"dataframe\">\n",
       "  <thead>\n",
       "    <tr style=\"text-align: right;\">\n",
       "      <th></th>\n",
       "      <th>Date</th>\n",
       "      <th>High</th>\n",
       "      <th>Low</th>\n",
       "      <th>Volume</th>\n",
       "    </tr>\n",
       "  </thead>\n",
       "  <tbody>\n",
       "    <tr>\n",
       "      <th>0</th>\n",
       "      <td>2013-01-02</td>\n",
       "      <td>0.413054</td>\n",
       "      <td>0.442920</td>\n",
       "      <td>0.223784</td>\n",
       "    </tr>\n",
       "    <tr>\n",
       "      <th>1</th>\n",
       "      <td>2013-01-03</td>\n",
       "      <td>0.432634</td>\n",
       "      <td>0.445370</td>\n",
       "      <td>0.374876</td>\n",
       "    </tr>\n",
       "    <tr>\n",
       "      <th>2</th>\n",
       "      <td>2013-01-04</td>\n",
       "      <td>0.428438</td>\n",
       "      <td>0.460069</td>\n",
       "      <td>0.156120</td>\n",
       "    </tr>\n",
       "    <tr>\n",
       "      <th>3</th>\n",
       "      <td>2013-01-07</td>\n",
       "      <td>0.427040</td>\n",
       "      <td>0.460069</td>\n",
       "      <td>0.119381</td>\n",
       "    </tr>\n",
       "    <tr>\n",
       "      <th>4</th>\n",
       "      <td>2013-01-08</td>\n",
       "      <td>0.420047</td>\n",
       "      <td>0.452719</td>\n",
       "      <td>0.128753</td>\n",
       "    </tr>\n",
       "    <tr>\n",
       "      <th>5</th>\n",
       "      <td>2013-01-09</td>\n",
       "      <td>0.427972</td>\n",
       "      <td>0.462028</td>\n",
       "      <td>0.098008</td>\n",
       "    </tr>\n",
       "    <tr>\n",
       "      <th>6</th>\n",
       "      <td>2013-01-10</td>\n",
       "      <td>0.443823</td>\n",
       "      <td>0.476237</td>\n",
       "      <td>0.255341</td>\n",
       "    </tr>\n",
       "    <tr>\n",
       "      <th>7</th>\n",
       "      <td>2013-01-11</td>\n",
       "      <td>0.449883</td>\n",
       "      <td>0.487016</td>\n",
       "      <td>0.198716</td>\n",
       "    </tr>\n",
       "    <tr>\n",
       "      <th>8</th>\n",
       "      <td>2013-01-14</td>\n",
       "      <td>0.450350</td>\n",
       "      <td>0.485056</td>\n",
       "      <td>0.128387</td>\n",
       "    </tr>\n",
       "    <tr>\n",
       "      <th>9</th>\n",
       "      <td>2013-01-15</td>\n",
       "      <td>0.460606</td>\n",
       "      <td>0.486526</td>\n",
       "      <td>0.158600</td>\n",
       "    </tr>\n",
       "  </tbody>\n",
       "</table>\n",
       "</div>"
      ],
      "text/plain": [
       "        Date      High       Low    Volume\n",
       "0 2013-01-02  0.413054  0.442920  0.223784\n",
       "1 2013-01-03  0.432634  0.445370  0.374876\n",
       "2 2013-01-04  0.428438  0.460069  0.156120\n",
       "3 2013-01-07  0.427040  0.460069  0.119381\n",
       "4 2013-01-08  0.420047  0.452719  0.128753\n",
       "5 2013-01-09  0.427972  0.462028  0.098008\n",
       "6 2013-01-10  0.443823  0.476237  0.255341\n",
       "7 2013-01-11  0.449883  0.487016  0.198716\n",
       "8 2013-01-14  0.450350  0.485056  0.128387\n",
       "9 2013-01-15  0.460606  0.486526  0.158600"
      ]
     },
     "execution_count": 324,
     "metadata": {},
     "output_type": "execute_result"
    }
   ],
   "source": [
    "AutoMobile_df.head(10)"
   ]
  },
  {
   "cell_type": "code",
   "execution_count": 325,
   "id": "437394e0",
   "metadata": {},
   "outputs": [],
   "source": [
    "df_Auto = AutoMobile_df.groupby('Date')[['High','Low','Volume']].mean().dropna()"
   ]
  },
  {
   "cell_type": "code",
   "execution_count": 326,
   "id": "6b3b6801",
   "metadata": {},
   "outputs": [
    {
     "data": {
      "text/html": [
       "<div>\n",
       "<style scoped>\n",
       "    .dataframe tbody tr th:only-of-type {\n",
       "        vertical-align: middle;\n",
       "    }\n",
       "\n",
       "    .dataframe tbody tr th {\n",
       "        vertical-align: top;\n",
       "    }\n",
       "\n",
       "    .dataframe thead th {\n",
       "        text-align: right;\n",
       "    }\n",
       "</style>\n",
       "<table border=\"1\" class=\"dataframe\">\n",
       "  <thead>\n",
       "    <tr style=\"text-align: right;\">\n",
       "      <th></th>\n",
       "      <th>High</th>\n",
       "      <th>Low</th>\n",
       "      <th>Volume</th>\n",
       "    </tr>\n",
       "    <tr>\n",
       "      <th>Date</th>\n",
       "      <th></th>\n",
       "      <th></th>\n",
       "      <th></th>\n",
       "    </tr>\n",
       "  </thead>\n",
       "  <tbody>\n",
       "    <tr>\n",
       "      <th>2013-01-01</th>\n",
       "      <td>0.102932</td>\n",
       "      <td>0.116431</td>\n",
       "      <td>0.032780</td>\n",
       "    </tr>\n",
       "    <tr>\n",
       "      <th>2013-01-02</th>\n",
       "      <td>0.213810</td>\n",
       "      <td>0.233270</td>\n",
       "      <td>0.122787</td>\n",
       "    </tr>\n",
       "    <tr>\n",
       "      <th>2013-01-03</th>\n",
       "      <td>0.216418</td>\n",
       "      <td>0.234956</td>\n",
       "      <td>0.126092</td>\n",
       "    </tr>\n",
       "    <tr>\n",
       "      <th>2013-01-04</th>\n",
       "      <td>0.215005</td>\n",
       "      <td>0.238389</td>\n",
       "      <td>0.094290</td>\n",
       "    </tr>\n",
       "    <tr>\n",
       "      <th>2013-01-07</th>\n",
       "      <td>0.213552</td>\n",
       "      <td>0.235734</td>\n",
       "      <td>0.076368</td>\n",
       "    </tr>\n",
       "    <tr>\n",
       "      <th>2013-01-08</th>\n",
       "      <td>0.210749</td>\n",
       "      <td>0.232655</td>\n",
       "      <td>0.082763</td>\n",
       "    </tr>\n",
       "    <tr>\n",
       "      <th>2013-01-09</th>\n",
       "      <td>0.217832</td>\n",
       "      <td>0.237520</td>\n",
       "      <td>0.111674</td>\n",
       "    </tr>\n",
       "    <tr>\n",
       "      <th>2013-01-10</th>\n",
       "      <td>0.221073</td>\n",
       "      <td>0.243477</td>\n",
       "      <td>0.099711</td>\n",
       "    </tr>\n",
       "    <tr>\n",
       "      <th>2013-01-11</th>\n",
       "      <td>0.222354</td>\n",
       "      <td>0.243732</td>\n",
       "      <td>0.084392</td>\n",
       "    </tr>\n",
       "    <tr>\n",
       "      <th>2013-01-14</th>\n",
       "      <td>0.223458</td>\n",
       "      <td>0.245701</td>\n",
       "      <td>0.092839</td>\n",
       "    </tr>\n",
       "  </tbody>\n",
       "</table>\n",
       "</div>"
      ],
      "text/plain": [
       "                High       Low    Volume\n",
       "Date                                    \n",
       "2013-01-01  0.102932  0.116431  0.032780\n",
       "2013-01-02  0.213810  0.233270  0.122787\n",
       "2013-01-03  0.216418  0.234956  0.126092\n",
       "2013-01-04  0.215005  0.238389  0.094290\n",
       "2013-01-07  0.213552  0.235734  0.076368\n",
       "2013-01-08  0.210749  0.232655  0.082763\n",
       "2013-01-09  0.217832  0.237520  0.111674\n",
       "2013-01-10  0.221073  0.243477  0.099711\n",
       "2013-01-11  0.222354  0.243732  0.084392\n",
       "2013-01-14  0.223458  0.245701  0.092839"
      ]
     },
     "execution_count": 326,
     "metadata": {},
     "output_type": "execute_result"
    }
   ],
   "source": [
    "df_Auto.head(10)"
   ]
  },
  {
   "cell_type": "code",
   "execution_count": 327,
   "id": "98a54348",
   "metadata": {},
   "outputs": [
    {
     "data": {
      "image/png": "[encoded data removed]",
      "text/plain": [
       "<Figure size 432x216 with 1 Axes>"
      ]
     },
     "metadata": {
      "needs_background": "light"
     },
     "output_type": "display_data"
    }
   ],
   "source": [
    "import rfpimp\n",
    "import pandas as pd\n",
    "import numpy as np\n",
    "from sklearn.ensemble import RandomForestRegressor\n",
    "from sklearn.model_selection import train_test_split\n",
    "\n",
    "######################################## Data preparation #########################################\n",
    "df_Auto.head(10)\n",
    "\n",
    "features = ['High','Low','Volume']\n",
    "\n",
    "######################################## Train/test split #########################################\n",
    "\n",
    "df_train, df_test = train_test_split(df_Auto, test_size=0.20)\n",
    "df_train = df_train[features]\n",
    "df_test = df_test[features]\n",
    "\n",
    "X_train, y_train = df_train.drop('Volume',axis=1), df_train['Volume']\n",
    "X_test, y_test = df_test.drop('Volume',axis=1), df_test['Volume']\n",
    "\n",
    "################################################ Train #############################################\n",
    "\n",
    "rf = RandomForestRegressor(n_estimators=100, n_jobs=-1)\n",
    "rf.fit(X_train, y_train)\n",
    "\n",
    "############################### Permutation feature importance #####################################\n",
    "\n",
    "imp = rfpimp.importances(rf, X_test, y_test)\n",
    "\n",
    "############################################## Plot ################################################\n",
    "\n",
    "fig, ax = plt.subplots(figsize=(6, 3))\n",
    "\n",
    "ax.barh(imp.index, imp['Importance'], height=0.8, facecolor='blue', alpha=0.8, edgecolor='k')\n",
    "ax.set_xlabel('High and Low Prices of Stocks ')\n",
    "ax.set_title('Variation from High & Low Prices depending on Volume')\n",
    "ax.text(0.8, 0.15, 'aegis4048.github.io', fontsize=12, ha='center', va='center',\n",
    "        transform=ax.transAxes, color='grey', alpha=0.5)\n",
    "plt.gca().invert_yaxis()\n",
    "\n",
    "fig.tight_layout()"
   ]
  },
  {
   "cell_type": "code",
   "execution_count": 328,
   "id": "ac1b9598",
   "metadata": {},
   "outputs": [
    {
     "data": {
      "image/png": "[encoded data removed]",
      "text/plain": [
       "<Figure size 864x576 with 2 Axes>"
      ]
     },
     "metadata": {
      "needs_background": "light"
     },
     "output_type": "display_data"
    }
   ],
   "source": [
    "start_date = pd.to_datetime('2013-01-01')\n",
    "end_date = pd.to_datetime('2023-01-18')                         \n",
    "#df['Date'] = pd.to_datetime(df['Date']) \n",
    "new_df = (AutoMobile_df['Date']>= start_date) & (AutoMobile_df['Date']<= end_date)\n",
    "df1 = AutoMobile_df.loc[new_df]\n",
    "stock_data = df1.set_index('Date')\n",
    "top_plt = plt.subplot2grid((5,4), (0, 0), rowspan=3, colspan=4)\n",
    "top_plt.plot(stock_data.index, stock_data[\"Volume\"])\n",
    "plt.title('Historical stock prices of Alphabet Inc. [01-04-2020 to 30-09-2020]')\n",
    "bottom_plt = plt.subplot2grid((5,4), (3,0), rowspan=1, colspan=4)\n",
    "bottom_plt.bar(stock_data.index, stock_data['Volume'])\n",
    "plt.title('\\nAlphabet Inc. Trading Volume', y=-0.60)\n",
    "plt.gcf().set_size_inches(12,8)"
   ]
  },
  {
   "cell_type": "code",
   "execution_count": 329,
   "id": "f7011a1b",
   "metadata": {},
   "outputs": [],
   "source": [
    "AutoMobile_df.to_csv('Scaled_Data.csv', encoding='utf-8')"
   ]
  },
  {
   "cell_type": "code",
   "execution_count": 330,
   "id": "1a0906dd",
   "metadata": {},
   "outputs": [
    {
     "data": {
      "image/png": "[encoded data removed]",
      "text/plain": [
       "<Figure size 432x288 with 1 Axes>"
      ]
     },
     "metadata": {
      "needs_background": "light"
     },
     "output_type": "display_data"
    }
   ],
   "source": [
    "plt.scatter(AutoMobile_df.Volume, AutoMobile_df.High)\n",
    "plt.ylabel('Volume_Traded')\n",
    "plt.xlabel('Date')\n",
    "plt.show()"
   ]
  },
  {
   "cell_type": "code",
   "execution_count": 331,
   "id": "ebdd3058",
   "metadata": {},
   "outputs": [],
   "source": [
    "from sklearn.linear_model import LinearRegression"
   ]
  },
  {
   "cell_type": "code",
   "execution_count": 332,
   "id": "20f95add",
   "metadata": {},
   "outputs": [
    {
     "data": {
      "text/plain": [
       "(2608,)"
      ]
     },
     "execution_count": 332,
     "metadata": {},
     "output_type": "execute_result"
    }
   ],
   "source": [
    "y = df_Auto['Volume']\n",
    "y.shape"
   ]
  },
  {
   "cell_type": "code",
   "execution_count": 333,
   "id": "930534bd",
   "metadata": {
    "scrolled": true
   },
   "outputs": [],
   "source": [
    "X = df_Auto[['High','Low']]\n",
    "\n"
   ]
  },
  {
   "cell_type": "code",
   "execution_count": 334,
   "id": "518c9a7d",
   "metadata": {},
   "outputs": [],
   "source": [
    "from sklearn.linear_model import LinearRegression\n",
    "from sklearn.metrics import confusion_matrix, accuracy_score, classification_report"
   ]
  },
  {
   "cell_type": "code",
   "execution_count": 335,
   "id": "6a489b68",
   "metadata": {},
   "outputs": [],
   "source": [
    "model = LinearRegression()"
   ]
  },
  {
   "cell_type": "code",
   "execution_count": 336,
   "id": "ee2bda49",
   "metadata": {},
   "outputs": [
    {
     "data": {
      "text/plain": [
       "LinearRegression()"
      ]
     },
     "execution_count": 336,
     "metadata": {},
     "output_type": "execute_result"
    }
   ],
   "source": [
    "model.fit(X, y)"
   ]
  },
  {
   "cell_type": "code",
   "execution_count": 337,
   "id": "146b2a4f",
   "metadata": {},
   "outputs": [
    {
     "name": "stdout",
     "output_type": "stream",
     "text": [
      "(2608,)\n"
     ]
    }
   ],
   "source": [
    "y_pred = model.predict(X)\n",
    "print(y_pred.shape)"
   ]
  },
  {
   "cell_type": "code",
   "execution_count": 338,
   "id": "fb92120b",
   "metadata": {},
   "outputs": [
    {
     "data": {
      "text/plain": [
       "array([0.15014457, 0.11607768, 0.1198662 , ..., 0.0421172 , 0.09396698,\n",
       "       0.1086962 ])"
      ]
     },
     "execution_count": 338,
     "metadata": {},
     "output_type": "execute_result"
    }
   ],
   "source": [
    "y_pred\n"
   ]
  },
  {
   "cell_type": "code",
   "execution_count": 339,
   "id": "4f5b5308",
   "metadata": {},
   "outputs": [
    {
     "name": "stdout",
     "output_type": "stream",
     "text": [
      "Intercept: 0.21617306141037118\n",
      "Coefficients: [ 4.24424104 -4.3192621 ]\n"
     ]
    }
   ],
   "source": [
    "print('Intercept:', model.intercept_)\n",
    "print('Coefficients:', model.coef_)\n"
   ]
  },
  {
   "cell_type": "code",
   "execution_count": 340,
   "id": "a007d1cf",
   "metadata": {},
   "outputs": [],
   "source": [
    "\n",
    "\n",
    "r2 = model.score(X, y)"
   ]
  },
  {
   "cell_type": "code",
   "execution_count": 341,
   "id": "515990d4",
   "metadata": {},
   "outputs": [
    {
     "data": {
      "text/plain": [
       "0.4424808935879482"
      ]
     },
     "execution_count": 341,
     "metadata": {},
     "output_type": "execute_result"
    }
   ],
   "source": [
    "r2\n"
   ]
  },
  {
   "cell_type": "code",
   "execution_count": 342,
   "id": "75039b34",
   "metadata": {},
   "outputs": [
    {
     "name": "stdout",
     "output_type": "stream",
     "text": [
      "[ 4.24424104 -4.3192621 ]\n",
      "0.21617306141037118\n"
     ]
    }
   ],
   "source": [
    "print(model.coef_)\n",
    "print(model.intercept_)"
   ]
  },
  {
   "cell_type": "code",
   "execution_count": null,
   "id": "2d873244",
   "metadata": {},
   "outputs": [],
   "source": []
  },
  {
   "cell_type": "code",
   "execution_count": null,
   "id": "5a3855f1",
   "metadata": {},
   "outputs": [],
   "source": []
  }
 ],
 "metadata": {
  "kernelspec": {
   "display_name": "Python 3 (ipykernel)",
   "language": "python",
   "name": "python3"
  },
  "language_info": {
   "codemirror_mode": {
    "name": "ipython",
    "version": 3
   },
   "file_extension": ".py",
   "mimetype": "text/x-python",
   "name": "python",
   "nbconvert_exporter": "python",
   "pygments_lexer": "ipython3",
   "version": "3.9.12"
  }
 },
 "nbformat": 4,
 "nbformat_minor": 5
}
