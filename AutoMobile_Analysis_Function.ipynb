{
 "cells": [
  {
   "cell_type": "code",
   "execution_count": 315,
   "id": "bd392316",
   "metadata": {},
   "outputs": [],
   "source": [
    "import pandas as pd\n",
    "import hvplot.pandas\n",
    "from pathlib import Path\n",
    "import plotly.express as px\n",
    "import matplotlib.pyplot as plt\n",
    "from sklearn.preprocessing import StandardScaler\n",
    "from sklearn.preprocessing import MinMaxScaler\n",
    "from sklearn import preprocessing"
   ]
  },
  {
   "cell_type": "markdown",
   "id": "66ad8e1c",
   "metadata": {},
   "source": [
    "## Reading & Normalizing Data"
   ]
  },
  {
   "cell_type": "code",
   "execution_count": 504,
   "id": "1429a0e2",
   "metadata": {},
   "outputs": [],
   "source": [
    "\n",
    "def minMaxScale(df):\n",
    "    columns = ['High','Low','Volume']\n",
    "    min_max_scaler = preprocessing.MinMaxScaler()\n",
    "    normDf = df.copy()\n",
    "    normDf[columns] = pd.DataFrame(min_max_scaler.fit_transform(normDf[columns]))\n",
    "    return normDf\n",
    "\n",
    "\n",
    "\n",
    "def readStock(filename):\n",
    "    basePath = \"/Users/shreya/dev/PROJECT_1/Finance_group_project/Resources/\"\n",
    "    filePath = basePath+filename\n",
    "    df = pd.read_csv(filePath).dropna()\n",
    "    df['Date'] = pd.to_datetime(df['Date'])\n",
    "    df1 = df[['Date','High','Low','Volume']]\n",
    "    \n",
    "\n",
    "    return minMaxScale(df1)\n",
    "\n"
   ]
  },
  {
   "cell_type": "code",
   "execution_count": 505,
   "id": "711daa47",
   "metadata": {},
   "outputs": [],
   "source": [
    "fordDf = readStock(\"Ford.csv\")\n",
    "gmDf= readStock(\"GM.csv\")\n",
    "mahindraDf= readStock(\"M&M.NS.csv\")\n",
    "marutiDf= readStock(\"MARUTI.NS.csv\")\n",
    "mercedesDf= readStock(\"MARUTI.NS.csv\")\n",
    "stlaDf= readStock(\"STLA.csv\")\n",
    "tataMotorsDf= readStock(\"TATAMOTORS.csv\")\n",
    "toyotaDf= readStock(\"Toyota.csv\")\n",
    "teslaDf = readStock(\"TSLA.csv\")\n",
    "vow3Df= readStock(\"VOW3.DE.csv\")"
   ]
  },
  {
   "cell_type": "code",
   "execution_count": 506,
   "id": "058d0796",
   "metadata": {},
   "outputs": [
    {
     "data": {
      "text/html": [
       "<div>\n",
       "<style scoped>\n",
       "    .dataframe tbody tr th:only-of-type {\n",
       "        vertical-align: middle;\n",
       "    }\n",
       "\n",
       "    .dataframe tbody tr th {\n",
       "        vertical-align: top;\n",
       "    }\n",
       "\n",
       "    .dataframe thead th {\n",
       "        text-align: right;\n",
       "    }\n",
       "</style>\n",
       "<table border=\"1\" class=\"dataframe\">\n",
       "  <thead>\n",
       "    <tr style=\"text-align: right;\">\n",
       "      <th></th>\n",
       "      <th>Date</th>\n",
       "      <th>High</th>\n",
       "      <th>Low</th>\n",
       "      <th>Volume</th>\n",
       "    </tr>\n",
       "  </thead>\n",
       "  <tbody>\n",
       "    <tr>\n",
       "      <th>0</th>\n",
       "      <td>2013-01-02</td>\n",
       "      <td>0.413054</td>\n",
       "      <td>0.442920</td>\n",
       "      <td>0.223784</td>\n",
       "    </tr>\n",
       "    <tr>\n",
       "      <th>1</th>\n",
       "      <td>2013-01-03</td>\n",
       "      <td>0.432634</td>\n",
       "      <td>0.445370</td>\n",
       "      <td>0.374876</td>\n",
       "    </tr>\n",
       "    <tr>\n",
       "      <th>2</th>\n",
       "      <td>2013-01-04</td>\n",
       "      <td>0.428438</td>\n",
       "      <td>0.460069</td>\n",
       "      <td>0.156120</td>\n",
       "    </tr>\n",
       "    <tr>\n",
       "      <th>3</th>\n",
       "      <td>2013-01-07</td>\n",
       "      <td>0.427040</td>\n",
       "      <td>0.460069</td>\n",
       "      <td>0.119381</td>\n",
       "    </tr>\n",
       "    <tr>\n",
       "      <th>4</th>\n",
       "      <td>2013-01-08</td>\n",
       "      <td>0.420047</td>\n",
       "      <td>0.452719</td>\n",
       "      <td>0.128753</td>\n",
       "    </tr>\n",
       "    <tr>\n",
       "      <th>5</th>\n",
       "      <td>2013-01-09</td>\n",
       "      <td>0.427972</td>\n",
       "      <td>0.462028</td>\n",
       "      <td>0.098008</td>\n",
       "    </tr>\n",
       "    <tr>\n",
       "      <th>6</th>\n",
       "      <td>2013-01-10</td>\n",
       "      <td>0.443823</td>\n",
       "      <td>0.476237</td>\n",
       "      <td>0.255341</td>\n",
       "    </tr>\n",
       "    <tr>\n",
       "      <th>7</th>\n",
       "      <td>2013-01-11</td>\n",
       "      <td>0.449883</td>\n",
       "      <td>0.487016</td>\n",
       "      <td>0.198716</td>\n",
       "    </tr>\n",
       "    <tr>\n",
       "      <th>8</th>\n",
       "      <td>2013-01-14</td>\n",
       "      <td>0.450350</td>\n",
       "      <td>0.485056</td>\n",
       "      <td>0.128387</td>\n",
       "    </tr>\n",
       "    <tr>\n",
       "      <th>9</th>\n",
       "      <td>2013-01-15</td>\n",
       "      <td>0.460606</td>\n",
       "      <td>0.486526</td>\n",
       "      <td>0.158600</td>\n",
       "    </tr>\n",
       "  </tbody>\n",
       "</table>\n",
       "</div>"
      ],
      "text/plain": [
       "        Date      High       Low    Volume\n",
       "0 2013-01-02  0.413054  0.442920  0.223784\n",
       "1 2013-01-03  0.432634  0.445370  0.374876\n",
       "2 2013-01-04  0.428438  0.460069  0.156120\n",
       "3 2013-01-07  0.427040  0.460069  0.119381\n",
       "4 2013-01-08  0.420047  0.452719  0.128753\n",
       "5 2013-01-09  0.427972  0.462028  0.098008\n",
       "6 2013-01-10  0.443823  0.476237  0.255341\n",
       "7 2013-01-11  0.449883  0.487016  0.198716\n",
       "8 2013-01-14  0.450350  0.485056  0.128387\n",
       "9 2013-01-15  0.460606  0.486526  0.158600"
      ]
     },
     "execution_count": 506,
     "metadata": {},
     "output_type": "execute_result"
    }
   ],
   "source": [
    "fordDf.head(10)"
   ]
  },
  {
   "cell_type": "markdown",
   "id": "d648af53",
   "metadata": {},
   "source": [
    "## Concating the Companies "
   ]
  },
  {
   "cell_type": "code",
   "execution_count": 507,
   "id": "f7759841",
   "metadata": {},
   "outputs": [],
   "source": [
    "AutoMobile_df = pd.concat([fordDf,gmDf,mahindraDf,mercedesDf,stlaDf,\n",
    "                          tataMotorsDf,toyotaDf,teslaDf,vow3Df])"
   ]
  },
  {
   "cell_type": "code",
   "execution_count": 508,
   "id": "aa647233",
   "metadata": {},
   "outputs": [
    {
     "data": {
      "text/html": [
       "<div>\n",
       "<style scoped>\n",
       "    .dataframe tbody tr th:only-of-type {\n",
       "        vertical-align: middle;\n",
       "    }\n",
       "\n",
       "    .dataframe tbody tr th {\n",
       "        vertical-align: top;\n",
       "    }\n",
       "\n",
       "    .dataframe thead th {\n",
       "        text-align: right;\n",
       "    }\n",
       "</style>\n",
       "<table border=\"1\" class=\"dataframe\">\n",
       "  <thead>\n",
       "    <tr style=\"text-align: right;\">\n",
       "      <th></th>\n",
       "      <th>Date</th>\n",
       "      <th>High</th>\n",
       "      <th>Low</th>\n",
       "      <th>Volume</th>\n",
       "    </tr>\n",
       "  </thead>\n",
       "  <tbody>\n",
       "    <tr>\n",
       "      <th>0</th>\n",
       "      <td>2013-01-02</td>\n",
       "      <td>0.413054</td>\n",
       "      <td>0.442920</td>\n",
       "      <td>0.223784</td>\n",
       "    </tr>\n",
       "    <tr>\n",
       "      <th>1</th>\n",
       "      <td>2013-01-03</td>\n",
       "      <td>0.432634</td>\n",
       "      <td>0.445370</td>\n",
       "      <td>0.374876</td>\n",
       "    </tr>\n",
       "    <tr>\n",
       "      <th>2</th>\n",
       "      <td>2013-01-04</td>\n",
       "      <td>0.428438</td>\n",
       "      <td>0.460069</td>\n",
       "      <td>0.156120</td>\n",
       "    </tr>\n",
       "    <tr>\n",
       "      <th>3</th>\n",
       "      <td>2013-01-07</td>\n",
       "      <td>0.427040</td>\n",
       "      <td>0.460069</td>\n",
       "      <td>0.119381</td>\n",
       "    </tr>\n",
       "    <tr>\n",
       "      <th>4</th>\n",
       "      <td>2013-01-08</td>\n",
       "      <td>0.420047</td>\n",
       "      <td>0.452719</td>\n",
       "      <td>0.128753</td>\n",
       "    </tr>\n",
       "    <tr>\n",
       "      <th>5</th>\n",
       "      <td>2013-01-09</td>\n",
       "      <td>0.427972</td>\n",
       "      <td>0.462028</td>\n",
       "      <td>0.098008</td>\n",
       "    </tr>\n",
       "    <tr>\n",
       "      <th>6</th>\n",
       "      <td>2013-01-10</td>\n",
       "      <td>0.443823</td>\n",
       "      <td>0.476237</td>\n",
       "      <td>0.255341</td>\n",
       "    </tr>\n",
       "    <tr>\n",
       "      <th>7</th>\n",
       "      <td>2013-01-11</td>\n",
       "      <td>0.449883</td>\n",
       "      <td>0.487016</td>\n",
       "      <td>0.198716</td>\n",
       "    </tr>\n",
       "    <tr>\n",
       "      <th>8</th>\n",
       "      <td>2013-01-14</td>\n",
       "      <td>0.450350</td>\n",
       "      <td>0.485056</td>\n",
       "      <td>0.128387</td>\n",
       "    </tr>\n",
       "    <tr>\n",
       "      <th>9</th>\n",
       "      <td>2013-01-15</td>\n",
       "      <td>0.460606</td>\n",
       "      <td>0.486526</td>\n",
       "      <td>0.158600</td>\n",
       "    </tr>\n",
       "  </tbody>\n",
       "</table>\n",
       "</div>"
      ],
      "text/plain": [
       "        Date      High       Low    Volume\n",
       "0 2013-01-02  0.413054  0.442920  0.223784\n",
       "1 2013-01-03  0.432634  0.445370  0.374876\n",
       "2 2013-01-04  0.428438  0.460069  0.156120\n",
       "3 2013-01-07  0.427040  0.460069  0.119381\n",
       "4 2013-01-08  0.420047  0.452719  0.128753\n",
       "5 2013-01-09  0.427972  0.462028  0.098008\n",
       "6 2013-01-10  0.443823  0.476237  0.255341\n",
       "7 2013-01-11  0.449883  0.487016  0.198716\n",
       "8 2013-01-14  0.450350  0.485056  0.128387\n",
       "9 2013-01-15  0.460606  0.486526  0.158600"
      ]
     },
     "execution_count": 508,
     "metadata": {},
     "output_type": "execute_result"
    }
   ],
   "source": [
    "AutoMobile_df.head(10)"
   ]
  },
  {
   "cell_type": "code",
   "execution_count": 509,
   "id": "5f85378d",
   "metadata": {},
   "outputs": [
    {
     "name": "stdout",
     "output_type": "stream",
     "text": [
      "<class 'pandas.core.frame.DataFrame'>\n",
      "Int64Index: 22688 entries, 0 to 2549\n",
      "Data columns (total 4 columns):\n",
      " #   Column  Non-Null Count  Dtype         \n",
      "---  ------  --------------  -----         \n",
      " 0   Date    22688 non-null  datetime64[ns]\n",
      " 1   High    22684 non-null  float64       \n",
      " 2   Low     22684 non-null  float64       \n",
      " 3   Volume  22684 non-null  float64       \n",
      "dtypes: datetime64[ns](1), float64(3)\n",
      "memory usage: 886.2 KB\n"
     ]
    }
   ],
   "source": [
    "AutoMobile_df.info()"
   ]
  },
  {
   "cell_type": "code",
   "execution_count": 510,
   "id": "99ea3778",
   "metadata": {},
   "outputs": [
    {
     "data": {
      "text/html": [
       "<div>\n",
       "<style scoped>\n",
       "    .dataframe tbody tr th:only-of-type {\n",
       "        vertical-align: middle;\n",
       "    }\n",
       "\n",
       "    .dataframe tbody tr th {\n",
       "        vertical-align: top;\n",
       "    }\n",
       "\n",
       "    .dataframe thead th {\n",
       "        text-align: right;\n",
       "    }\n",
       "</style>\n",
       "<table border=\"1\" class=\"dataframe\">\n",
       "  <thead>\n",
       "    <tr style=\"text-align: right;\">\n",
       "      <th></th>\n",
       "      <th>High</th>\n",
       "      <th>Low</th>\n",
       "      <th>Volume</th>\n",
       "    </tr>\n",
       "  </thead>\n",
       "  <tbody>\n",
       "    <tr>\n",
       "      <th>count</th>\n",
       "      <td>22684.000000</td>\n",
       "      <td>22684.000000</td>\n",
       "      <td>22684.000000</td>\n",
       "    </tr>\n",
       "    <tr>\n",
       "      <th>mean</th>\n",
       "      <td>0.384269</td>\n",
       "      <td>0.402653</td>\n",
       "      <td>0.107928</td>\n",
       "    </tr>\n",
       "    <tr>\n",
       "      <th>std</th>\n",
       "      <td>0.229896</td>\n",
       "      <td>0.231731</td>\n",
       "      <td>0.092069</td>\n",
       "    </tr>\n",
       "    <tr>\n",
       "      <th>min</th>\n",
       "      <td>0.000000</td>\n",
       "      <td>0.000000</td>\n",
       "      <td>0.000000</td>\n",
       "    </tr>\n",
       "    <tr>\n",
       "      <th>25%</th>\n",
       "      <td>0.215771</td>\n",
       "      <td>0.235171</td>\n",
       "      <td>0.050057</td>\n",
       "    </tr>\n",
       "    <tr>\n",
       "      <th>50%</th>\n",
       "      <td>0.360101</td>\n",
       "      <td>0.393718</td>\n",
       "      <td>0.083877</td>\n",
       "    </tr>\n",
       "    <tr>\n",
       "      <th>75%</th>\n",
       "      <td>0.537641</td>\n",
       "      <td>0.556933</td>\n",
       "      <td>0.137678</td>\n",
       "    </tr>\n",
       "    <tr>\n",
       "      <th>max</th>\n",
       "      <td>1.000000</td>\n",
       "      <td>1.000000</td>\n",
       "      <td>1.000000</td>\n",
       "    </tr>\n",
       "  </tbody>\n",
       "</table>\n",
       "</div>"
      ],
      "text/plain": [
       "               High           Low        Volume\n",
       "count  22684.000000  22684.000000  22684.000000\n",
       "mean       0.384269      0.402653      0.107928\n",
       "std        0.229896      0.231731      0.092069\n",
       "min        0.000000      0.000000      0.000000\n",
       "25%        0.215771      0.235171      0.050057\n",
       "50%        0.360101      0.393718      0.083877\n",
       "75%        0.537641      0.556933      0.137678\n",
       "max        1.000000      1.000000      1.000000"
      ]
     },
     "execution_count": 510,
     "metadata": {},
     "output_type": "execute_result"
    }
   ],
   "source": [
    "AutoMobile_df.describe()"
   ]
  },
  {
   "cell_type": "code",
   "execution_count": 511,
   "id": "27527d23",
   "metadata": {},
   "outputs": [
    {
     "data": {
      "text/html": [
       "<div>\n",
       "<style scoped>\n",
       "    .dataframe tbody tr th:only-of-type {\n",
       "        vertical-align: middle;\n",
       "    }\n",
       "\n",
       "    .dataframe tbody tr th {\n",
       "        vertical-align: top;\n",
       "    }\n",
       "\n",
       "    .dataframe thead th {\n",
       "        text-align: right;\n",
       "    }\n",
       "</style>\n",
       "<table border=\"1\" class=\"dataframe\">\n",
       "  <thead>\n",
       "    <tr style=\"text-align: right;\">\n",
       "      <th></th>\n",
       "      <th>Date</th>\n",
       "      <th>High</th>\n",
       "      <th>Low</th>\n",
       "      <th>Volume</th>\n",
       "    </tr>\n",
       "  </thead>\n",
       "  <tbody>\n",
       "    <tr>\n",
       "      <th>0</th>\n",
       "      <td>2013-01-02</td>\n",
       "      <td>0.413054</td>\n",
       "      <td>0.442920</td>\n",
       "      <td>0.223784</td>\n",
       "    </tr>\n",
       "    <tr>\n",
       "      <th>1</th>\n",
       "      <td>2013-01-03</td>\n",
       "      <td>0.432634</td>\n",
       "      <td>0.445370</td>\n",
       "      <td>0.374876</td>\n",
       "    </tr>\n",
       "    <tr>\n",
       "      <th>2</th>\n",
       "      <td>2013-01-04</td>\n",
       "      <td>0.428438</td>\n",
       "      <td>0.460069</td>\n",
       "      <td>0.156120</td>\n",
       "    </tr>\n",
       "    <tr>\n",
       "      <th>3</th>\n",
       "      <td>2013-01-07</td>\n",
       "      <td>0.427040</td>\n",
       "      <td>0.460069</td>\n",
       "      <td>0.119381</td>\n",
       "    </tr>\n",
       "    <tr>\n",
       "      <th>4</th>\n",
       "      <td>2013-01-08</td>\n",
       "      <td>0.420047</td>\n",
       "      <td>0.452719</td>\n",
       "      <td>0.128753</td>\n",
       "    </tr>\n",
       "    <tr>\n",
       "      <th>...</th>\n",
       "      <td>...</td>\n",
       "      <td>...</td>\n",
       "      <td>...</td>\n",
       "      <td>...</td>\n",
       "    </tr>\n",
       "    <tr>\n",
       "      <th>2545</th>\n",
       "      <td>2023-01-12</td>\n",
       "      <td>0.217445</td>\n",
       "      <td>0.283246</td>\n",
       "      <td>0.082273</td>\n",
       "    </tr>\n",
       "    <tr>\n",
       "      <th>2546</th>\n",
       "      <td>2023-01-13</td>\n",
       "      <td>0.209222</td>\n",
       "      <td>0.260798</td>\n",
       "      <td>0.167468</td>\n",
       "    </tr>\n",
       "    <tr>\n",
       "      <th>2547</th>\n",
       "      <td>2023-01-16</td>\n",
       "      <td>0.199941</td>\n",
       "      <td>0.266557</td>\n",
       "      <td>0.060403</td>\n",
       "    </tr>\n",
       "    <tr>\n",
       "      <th>2548</th>\n",
       "      <td>2023-01-17</td>\n",
       "      <td>0.201703</td>\n",
       "      <td>0.257272</td>\n",
       "      <td>0.102326</td>\n",
       "    </tr>\n",
       "    <tr>\n",
       "      <th>2549</th>\n",
       "      <td>2023-01-18</td>\n",
       "      <td>0.198532</td>\n",
       "      <td>0.264794</td>\n",
       "      <td>0.055283</td>\n",
       "    </tr>\n",
       "  </tbody>\n",
       "</table>\n",
       "<p>22688 rows × 4 columns</p>\n",
       "</div>"
      ],
      "text/plain": [
       "           Date      High       Low    Volume\n",
       "0    2013-01-02  0.413054  0.442920  0.223784\n",
       "1    2013-01-03  0.432634  0.445370  0.374876\n",
       "2    2013-01-04  0.428438  0.460069  0.156120\n",
       "3    2013-01-07  0.427040  0.460069  0.119381\n",
       "4    2013-01-08  0.420047  0.452719  0.128753\n",
       "...         ...       ...       ...       ...\n",
       "2545 2023-01-12  0.217445  0.283246  0.082273\n",
       "2546 2023-01-13  0.209222  0.260798  0.167468\n",
       "2547 2023-01-16  0.199941  0.266557  0.060403\n",
       "2548 2023-01-17  0.201703  0.257272  0.102326\n",
       "2549 2023-01-18  0.198532  0.264794  0.055283\n",
       "\n",
       "[22688 rows x 4 columns]"
      ]
     },
     "execution_count": 511,
     "metadata": {},
     "output_type": "execute_result"
    }
   ],
   "source": [
    "AutoMobile_df"
   ]
  },
  {
   "cell_type": "markdown",
   "id": "cee6136b",
   "metadata": {},
   "source": [
    "## Average per Day of Data using groupby"
   ]
  },
  {
   "cell_type": "code",
   "execution_count": 512,
   "id": "1ce1759a",
   "metadata": {},
   "outputs": [],
   "source": [
    "df_Auto = AutoMobile_df.groupby('Date')[['High','Low','Volume']].mean().dropna()"
   ]
  },
  {
   "cell_type": "code",
   "execution_count": 525,
   "id": "35a39aa0",
   "metadata": {},
   "outputs": [
    {
     "data": {
      "text/html": [
       "<div>\n",
       "<style scoped>\n",
       "    .dataframe tbody tr th:only-of-type {\n",
       "        vertical-align: middle;\n",
       "    }\n",
       "\n",
       "    .dataframe tbody tr th {\n",
       "        vertical-align: top;\n",
       "    }\n",
       "\n",
       "    .dataframe thead th {\n",
       "        text-align: right;\n",
       "    }\n",
       "</style>\n",
       "<table border=\"1\" class=\"dataframe\">\n",
       "  <thead>\n",
       "    <tr style=\"text-align: right;\">\n",
       "      <th></th>\n",
       "      <th>High</th>\n",
       "      <th>Low</th>\n",
       "      <th>Volume</th>\n",
       "    </tr>\n",
       "    <tr>\n",
       "      <th>Date</th>\n",
       "      <th></th>\n",
       "      <th></th>\n",
       "      <th></th>\n",
       "    </tr>\n",
       "  </thead>\n",
       "  <tbody>\n",
       "    <tr>\n",
       "      <th>2013-01-01</th>\n",
       "      <td>0.102932</td>\n",
       "      <td>0.116431</td>\n",
       "      <td>0.032780</td>\n",
       "    </tr>\n",
       "    <tr>\n",
       "      <th>2013-01-02</th>\n",
       "      <td>0.213810</td>\n",
       "      <td>0.233270</td>\n",
       "      <td>0.122787</td>\n",
       "    </tr>\n",
       "    <tr>\n",
       "      <th>2013-01-03</th>\n",
       "      <td>0.216418</td>\n",
       "      <td>0.234956</td>\n",
       "      <td>0.126092</td>\n",
       "    </tr>\n",
       "    <tr>\n",
       "      <th>2013-01-04</th>\n",
       "      <td>0.215005</td>\n",
       "      <td>0.238389</td>\n",
       "      <td>0.094290</td>\n",
       "    </tr>\n",
       "    <tr>\n",
       "      <th>2013-01-07</th>\n",
       "      <td>0.213552</td>\n",
       "      <td>0.235734</td>\n",
       "      <td>0.076368</td>\n",
       "    </tr>\n",
       "    <tr>\n",
       "      <th>...</th>\n",
       "      <td>...</td>\n",
       "      <td>...</td>\n",
       "      <td>...</td>\n",
       "    </tr>\n",
       "    <tr>\n",
       "      <th>2023-01-12</th>\n",
       "      <td>0.510098</td>\n",
       "      <td>0.527184</td>\n",
       "      <td>0.107744</td>\n",
       "    </tr>\n",
       "    <tr>\n",
       "      <th>2023-01-13</th>\n",
       "      <td>0.493667</td>\n",
       "      <td>0.511290</td>\n",
       "      <td>0.137713</td>\n",
       "    </tr>\n",
       "    <tr>\n",
       "      <th>2023-01-16</th>\n",
       "      <td>0.664934</td>\n",
       "      <td>0.693683</td>\n",
       "      <td>0.044766</td>\n",
       "    </tr>\n",
       "    <tr>\n",
       "      <th>2023-01-17</th>\n",
       "      <td>0.502577</td>\n",
       "      <td>0.522141</td>\n",
       "      <td>0.141808</td>\n",
       "    </tr>\n",
       "    <tr>\n",
       "      <th>2023-01-18</th>\n",
       "      <td>0.394735</td>\n",
       "      <td>0.412762</td>\n",
       "      <td>0.162798</td>\n",
       "    </tr>\n",
       "  </tbody>\n",
       "</table>\n",
       "<p>2608 rows × 3 columns</p>\n",
       "</div>"
      ],
      "text/plain": [
       "                High       Low    Volume\n",
       "Date                                    \n",
       "2013-01-01  0.102932  0.116431  0.032780\n",
       "2013-01-02  0.213810  0.233270  0.122787\n",
       "2013-01-03  0.216418  0.234956  0.126092\n",
       "2013-01-04  0.215005  0.238389  0.094290\n",
       "2013-01-07  0.213552  0.235734  0.076368\n",
       "...              ...       ...       ...\n",
       "2023-01-12  0.510098  0.527184  0.107744\n",
       "2023-01-13  0.493667  0.511290  0.137713\n",
       "2023-01-16  0.664934  0.693683  0.044766\n",
       "2023-01-17  0.502577  0.522141  0.141808\n",
       "2023-01-18  0.394735  0.412762  0.162798\n",
       "\n",
       "[2608 rows x 3 columns]"
      ]
     },
     "execution_count": 525,
     "metadata": {},
     "output_type": "execute_result"
    }
   ],
   "source": [
    "df_Auto"
   ]
  },
  {
   "cell_type": "code",
   "execution_count": 524,
   "id": "18a776b3",
   "metadata": {},
   "outputs": [
    {
     "data": {
      "text/html": [
       "<div>\n",
       "<style scoped>\n",
       "    .dataframe tbody tr th:only-of-type {\n",
       "        vertical-align: middle;\n",
       "    }\n",
       "\n",
       "    .dataframe tbody tr th {\n",
       "        vertical-align: top;\n",
       "    }\n",
       "\n",
       "    .dataframe thead th {\n",
       "        text-align: right;\n",
       "    }\n",
       "</style>\n",
       "<table border=\"1\" class=\"dataframe\">\n",
       "  <thead>\n",
       "    <tr style=\"text-align: right;\">\n",
       "      <th></th>\n",
       "      <th>High</th>\n",
       "      <th>Low</th>\n",
       "      <th>Volume</th>\n",
       "    </tr>\n",
       "  </thead>\n",
       "  <tbody>\n",
       "    <tr>\n",
       "      <th>count</th>\n",
       "      <td>2608.000000</td>\n",
       "      <td>2608.000000</td>\n",
       "      <td>2608.000000</td>\n",
       "    </tr>\n",
       "    <tr>\n",
       "      <th>mean</th>\n",
       "      <td>0.385110</td>\n",
       "      <td>0.403638</td>\n",
       "      <td>0.107257</td>\n",
       "    </tr>\n",
       "    <tr>\n",
       "      <th>std</th>\n",
       "      <td>0.128876</td>\n",
       "      <td>0.127422</td>\n",
       "      <td>0.039404</td>\n",
       "    </tr>\n",
       "    <tr>\n",
       "      <th>min</th>\n",
       "      <td>0.075668</td>\n",
       "      <td>0.087173</td>\n",
       "      <td>0.000000</td>\n",
       "    </tr>\n",
       "    <tr>\n",
       "      <th>25%</th>\n",
       "      <td>0.302511</td>\n",
       "      <td>0.321810</td>\n",
       "      <td>0.081571</td>\n",
       "    </tr>\n",
       "    <tr>\n",
       "      <th>50%</th>\n",
       "      <td>0.349205</td>\n",
       "      <td>0.369837</td>\n",
       "      <td>0.099078</td>\n",
       "    </tr>\n",
       "    <tr>\n",
       "      <th>75%</th>\n",
       "      <td>0.465608</td>\n",
       "      <td>0.485888</td>\n",
       "      <td>0.124529</td>\n",
       "    </tr>\n",
       "    <tr>\n",
       "      <th>max</th>\n",
       "      <td>0.860334</td>\n",
       "      <td>0.859226</td>\n",
       "      <td>0.566253</td>\n",
       "    </tr>\n",
       "  </tbody>\n",
       "</table>\n",
       "</div>"
      ],
      "text/plain": [
       "              High          Low       Volume\n",
       "count  2608.000000  2608.000000  2608.000000\n",
       "mean      0.385110     0.403638     0.107257\n",
       "std       0.128876     0.127422     0.039404\n",
       "min       0.075668     0.087173     0.000000\n",
       "25%       0.302511     0.321810     0.081571\n",
       "50%       0.349205     0.369837     0.099078\n",
       "75%       0.465608     0.485888     0.124529\n",
       "max       0.860334     0.859226     0.566253"
      ]
     },
     "execution_count": 524,
     "metadata": {},
     "output_type": "execute_result"
    }
   ],
   "source": [
    "df_Auto.describe()"
   ]
  },
  {
   "cell_type": "markdown",
   "id": "c788da0d",
   "metadata": {},
   "source": [
    "## Ploting Graph Volume trading verse Date"
   ]
  },
  {
   "cell_type": "code",
   "execution_count": 670,
   "id": "f043c10e",
   "metadata": {},
   "outputs": [
    {
     "data": {
      "text/plain": [
       "(0.0, 0.7)"
      ]
     },
     "execution_count": 670,
     "metadata": {},
     "output_type": "execute_result"
    },
    {
     "data": {
      "image/png": "[encoded data removed]",
      "text/plain": [
       "<Figure size 1152x720 with 1 Axes>"
      ]
     },
     "metadata": {
      "needs_background": "light"
     },
     "output_type": "display_data"
    }
   ],
   "source": [
    "fig, ax = plt.subplots(figsize=(16, 10))\n",
    "ax.plot(Sorted_df.Volume, color='grey', linestyle= '-')\n",
    "ax.set(title = \"Historical stock Volume trading\",\n",
    "       xlabel = \"Date\",\n",
    "       ylabel = \"Volume Trading\")\n",
    "\n",
    "\n",
    "plt.ylim(0, 0.7)\n",
    "\n",
    "\n"
   ]
  },
  {
   "cell_type": "code",
   "execution_count": 527,
   "id": "fdf54569",
   "metadata": {},
   "outputs": [],
   "source": [
    "df_Auto.to_csv('Scaled_Data_Averaged.csv', encoding='utf-8')"
   ]
  },
  {
   "cell_type": "code",
   "execution_count": 528,
   "id": "2dc063a2",
   "metadata": {},
   "outputs": [
    {
     "data": {
      "text/html": [
       "<div>\n",
       "<style scoped>\n",
       "    .dataframe tbody tr th:only-of-type {\n",
       "        vertical-align: middle;\n",
       "    }\n",
       "\n",
       "    .dataframe tbody tr th {\n",
       "        vertical-align: top;\n",
       "    }\n",
       "\n",
       "    .dataframe thead th {\n",
       "        text-align: right;\n",
       "    }\n",
       "</style>\n",
       "<table border=\"1\" class=\"dataframe\">\n",
       "  <thead>\n",
       "    <tr style=\"text-align: right;\">\n",
       "      <th></th>\n",
       "      <th>High</th>\n",
       "      <th>Low</th>\n",
       "      <th>Volume</th>\n",
       "    </tr>\n",
       "    <tr>\n",
       "      <th>Date</th>\n",
       "      <th></th>\n",
       "      <th></th>\n",
       "      <th></th>\n",
       "    </tr>\n",
       "  </thead>\n",
       "  <tbody>\n",
       "    <tr>\n",
       "      <th>2013-01-01</th>\n",
       "      <td>0.102932</td>\n",
       "      <td>0.116431</td>\n",
       "      <td>0.032780</td>\n",
       "    </tr>\n",
       "    <tr>\n",
       "      <th>2013-01-02</th>\n",
       "      <td>0.213810</td>\n",
       "      <td>0.233270</td>\n",
       "      <td>0.122787</td>\n",
       "    </tr>\n",
       "    <tr>\n",
       "      <th>2013-01-03</th>\n",
       "      <td>0.216418</td>\n",
       "      <td>0.234956</td>\n",
       "      <td>0.126092</td>\n",
       "    </tr>\n",
       "    <tr>\n",
       "      <th>2013-01-04</th>\n",
       "      <td>0.215005</td>\n",
       "      <td>0.238389</td>\n",
       "      <td>0.094290</td>\n",
       "    </tr>\n",
       "    <tr>\n",
       "      <th>2013-01-07</th>\n",
       "      <td>0.213552</td>\n",
       "      <td>0.235734</td>\n",
       "      <td>0.076368</td>\n",
       "    </tr>\n",
       "    <tr>\n",
       "      <th>...</th>\n",
       "      <td>...</td>\n",
       "      <td>...</td>\n",
       "      <td>...</td>\n",
       "    </tr>\n",
       "    <tr>\n",
       "      <th>2023-01-12</th>\n",
       "      <td>0.510098</td>\n",
       "      <td>0.527184</td>\n",
       "      <td>0.107744</td>\n",
       "    </tr>\n",
       "    <tr>\n",
       "      <th>2023-01-13</th>\n",
       "      <td>0.493667</td>\n",
       "      <td>0.511290</td>\n",
       "      <td>0.137713</td>\n",
       "    </tr>\n",
       "    <tr>\n",
       "      <th>2023-01-16</th>\n",
       "      <td>0.664934</td>\n",
       "      <td>0.693683</td>\n",
       "      <td>0.044766</td>\n",
       "    </tr>\n",
       "    <tr>\n",
       "      <th>2023-01-17</th>\n",
       "      <td>0.502577</td>\n",
       "      <td>0.522141</td>\n",
       "      <td>0.141808</td>\n",
       "    </tr>\n",
       "    <tr>\n",
       "      <th>2023-01-18</th>\n",
       "      <td>0.394735</td>\n",
       "      <td>0.412762</td>\n",
       "      <td>0.162798</td>\n",
       "    </tr>\n",
       "  </tbody>\n",
       "</table>\n",
       "<p>2608 rows × 3 columns</p>\n",
       "</div>"
      ],
      "text/plain": [
       "                High       Low    Volume\n",
       "Date                                    \n",
       "2013-01-01  0.102932  0.116431  0.032780\n",
       "2013-01-02  0.213810  0.233270  0.122787\n",
       "2013-01-03  0.216418  0.234956  0.126092\n",
       "2013-01-04  0.215005  0.238389  0.094290\n",
       "2013-01-07  0.213552  0.235734  0.076368\n",
       "...              ...       ...       ...\n",
       "2023-01-12  0.510098  0.527184  0.107744\n",
       "2023-01-13  0.493667  0.511290  0.137713\n",
       "2023-01-16  0.664934  0.693683  0.044766\n",
       "2023-01-17  0.502577  0.522141  0.141808\n",
       "2023-01-18  0.394735  0.412762  0.162798\n",
       "\n",
       "[2608 rows x 3 columns]"
      ]
     },
     "execution_count": 528,
     "metadata": {},
     "output_type": "execute_result"
    }
   ],
   "source": [
    "Sorted_df = df_Auto.sort_values(by=['Date'])\n",
    "Sorted_df"
   ]
  },
  {
   "cell_type": "code",
   "execution_count": 579,
   "id": "5bace80b",
   "metadata": {},
   "outputs": [
    {
     "data": {
      "text/plain": [
       "(0.0, 1.0)"
      ]
     },
     "execution_count": 579,
     "metadata": {},
     "output_type": "execute_result"
    },
    {
     "data": {
      "image/png": "[encoded data removed]",
      "text/plain": [
       "<Figure size 1152x720 with 1 Axes>"
      ]
     },
     "metadata": {
      "needs_background": "light"
     },
     "output_type": "display_data"
    }
   ],
   "source": [
    "fig, ax = plt.subplots(figsize=(16, 10))\n",
    "ax.plot(Sorted_df.High, color='red', linestyle= '--')\n",
    "ax.plot(Sorted_df.Low, color='green')\n",
    "ax.set(title = \"High & Low Prices of Automobile Companies\",\n",
    "       xlabel = \"Date\",\n",
    "       ylabel = \"Stock Prices\")\n",
    "\n",
    "\n",
    "plt.ylim(0, 1)\n",
    "\n"
   ]
  },
  {
   "cell_type": "code",
   "execution_count": null,
   "id": "733d5279",
   "metadata": {},
   "outputs": [],
   "source": []
  },
  {
   "cell_type": "markdown",
   "id": "72ac14a3",
   "metadata": {},
   "source": [
    "## MultiLinear Regression Machine Learning Model"
   ]
  },
  {
   "cell_type": "code",
   "execution_count": 642,
   "id": "f1238490",
   "metadata": {},
   "outputs": [],
   "source": [
    "from sklearn.linear_model import LinearRegression\n",
    "from sklearn.metrics import confusion_matrix, accuracy_score, classification_report"
   ]
  },
  {
   "cell_type": "code",
   "execution_count": 640,
   "id": "ac0d7523",
   "metadata": {},
   "outputs": [
    {
     "name": "stdout",
     "output_type": "stream",
     "text": [
      "TRAIN\n",
      "Y train Shape: (2595,)\n",
      "X train Shape: (2595, 2)\n",
      "\n",
      "TEST\n",
      "Y test Shape: (13,)\n",
      "X test Shape: (13, 2)\n"
     ]
    }
   ],
   "source": [
    "train_df = Sorted_df[(Sorted_df.index < '2023-01-01')]\n",
    "X_train = train_df[['High','Low']]\n",
    "y_train = train_df['Volume']\n",
    "\n",
    "\n",
    "test_df = Sorted_df[(Sorted_df.index >= '2023-01-01')]\n",
    "X_test = test_df[['High', 'Low']]\n",
    "y_test = test_df['Volume']\n",
    "\n",
    "  \n",
    "print(\"TRAIN\")\n",
    "print(\"Y train Shape: \" + str(y_train.shape))\n",
    "print(\"X train Shape: \" + str(X_train.shape))\n",
    "\n",
    "print(\"\\nTEST\")\n",
    "print(\"Y test Shape: \" + str(y_test.shape))\n",
    "print(\"X test Shape: \" + str(X_test.shape))"
   ]
  },
  {
   "cell_type": "code",
   "execution_count": 643,
   "id": "65870a61",
   "metadata": {},
   "outputs": [],
   "source": [
    "model = LinearRegression()"
   ]
  },
  {
   "cell_type": "code",
   "execution_count": 644,
   "id": "2ed7a93c",
   "metadata": {},
   "outputs": [
    {
     "data": {
      "text/plain": [
       "LinearRegression()"
      ]
     },
     "execution_count": 644,
     "metadata": {},
     "output_type": "execute_result"
    }
   ],
   "source": [
    "model.fit(X_train, y_train)"
   ]
  },
  {
   "cell_type": "markdown",
   "id": "3e4f6480",
   "metadata": {},
   "source": [
    "## Model Validation"
   ]
  },
  {
   "cell_type": "code",
   "execution_count": 645,
   "id": "e4961428",
   "metadata": {},
   "outputs": [
    {
     "name": "stdout",
     "output_type": "stream",
     "text": [
      "Intercept: 0.2162322161477662\n",
      "Coefficients: [ 4.24920812 -4.32419058]\n"
     ]
    }
   ],
   "source": [
    "print('Intercept:', model.intercept_)\n",
    "print('Coefficients:', model.coef_)\n"
   ]
  },
  {
   "cell_type": "markdown",
   "id": "fc408f6e",
   "metadata": {},
   "source": [
    "### Those values are the intercept and coefficients values of the models which can be put in mathematic equation as below:\n",
    "### y=0.2162+4.2442X<sub>1</sub>-4.3192X<sub>2</sub>"
   ]
  },
  {
   "cell_type": "code",
   "execution_count": 649,
   "id": "e24c38c8",
   "metadata": {},
   "outputs": [
    {
     "name": "stdout",
     "output_type": "stream",
     "text": [
      "Model R2: 0.44332697617228844\n"
     ]
    }
   ],
   "source": [
    "r2 = model.score(X_train, y_train)\n",
    "print(\"Model R2: \" + str(r2))"
   ]
  },
  {
   "cell_type": "code",
   "execution_count": 650,
   "id": "4a1cef37",
   "metadata": {},
   "outputs": [],
   "source": [
    "import statsmodels\n",
    "import statsmodels.api as sm\n",
    "import statsmodels.formula.api as smf\n",
    "import statsmodels.stats.api as sms"
   ]
  },
  {
   "cell_type": "code",
   "execution_count": 656,
   "id": "45787ce0",
   "metadata": {},
   "outputs": [
    {
     "name": "stdout",
     "output_type": "stream",
     "text": [
      "                            OLS Regression Results                            \n",
      "==============================================================================\n",
      "Dep. Variable:                 Volume   R-squared:                       0.443\n",
      "Model:                            OLS   Adj. R-squared:                  0.443\n",
      "Method:                 Least Squares   F-statistic:                     1032.\n",
      "Date:                Mon, 30 Jan 2023   Prob (F-statistic):               0.00\n",
      "Time:                        18:14:50   Log-Likelihood:                 5467.8\n",
      "No. Observations:                2595   AIC:                        -1.093e+04\n",
      "Df Residuals:                    2592   BIC:                        -1.091e+04\n",
      "Df Model:                           2                                         \n",
      "Covariance Type:            nonrobust                                         \n",
      "==============================================================================\n",
      "                 coef    std err          t      P>|t|      [0.025      0.975]\n",
      "------------------------------------------------------------------------------\n",
      "const          0.2162      0.003     75.081      0.000       0.211       0.222\n",
      "High           4.2492      0.095     44.919      0.000       4.064       4.435\n",
      "Low           -4.3242      0.096    -45.192      0.000      -4.512      -4.137\n",
      "==============================================================================\n",
      "Omnibus:                     1331.656   Durbin-Watson:                   1.061\n",
      "Prob(Omnibus):                  0.000   Jarque-Bera (JB):            31454.132\n",
      "Skew:                           1.913   Prob(JB):                         0.00\n",
      "Kurtosis:                      19.621   Cond. No.                         267.\n",
      "==============================================================================\n",
      "\n",
      "Notes:\n",
      "[1] Standard Errors assume that the covariance matrix of the errors is correctly specified.\n"
     ]
    }
   ],
   "source": [
    "\n",
    "X = sm.add_constant(X_train) # adding a constant\n",
    "\n",
    "olsmod = sm.OLS(y_train, X).fit()\n",
    "print(olsmod.summary())"
   ]
  },
  {
   "cell_type": "code",
   "execution_count": 657,
   "id": "0805c74a",
   "metadata": {},
   "outputs": [
    {
     "name": "stdout",
     "output_type": "stream",
     "text": [
      "R2 score: 0.44332697617228867\n"
     ]
    }
   ],
   "source": [
    "print('R2 score:', olsmod.rsquared)"
   ]
  },
  {
   "cell_type": "markdown",
   "id": "6b84fb87",
   "metadata": {},
   "source": [
    "### Accuracy Assesment\n",
    "### R² range between 0 and 1, where R²=0 means there are no linear relationship between the variables and R²=1 shows a perfect linear relationship. In our case, we got R² score about 0.442 which means 44.2% of our dependent variable can be explained using our independent variables."
   ]
  },
  {
   "cell_type": "markdown",
   "id": "3e4accdf",
   "metadata": {},
   "source": [
    "## Make Future Predictions "
   ]
  },
  {
   "cell_type": "code",
   "execution_count": 658,
   "id": "8c1c9ac3",
   "metadata": {},
   "outputs": [
    {
     "name": "stdout",
     "output_type": "stream",
     "text": [
      "\n",
      "TEST\n",
      "Y test Shape: (13,)\n",
      "X test Shape: (13, 2)\n"
     ]
    }
   ],
   "source": [
    "print(\"\\nTEST\")\n",
    "print(\"Y test Shape: \" + str(y_test.shape))\n",
    "print(\"X test Shape: \" + str(X_test.shape))"
   ]
  },
  {
   "cell_type": "code",
   "execution_count": 680,
   "id": "55ac37f0",
   "metadata": {},
   "outputs": [
    {
     "name": "stdout",
     "output_type": "stream",
     "text": [
      "prediction shape: (13,)\n"
     ]
    }
   ],
   "source": [
    "Predictions = model.predict(X_test)\n",
    "\n",
    "print(\"prediction shape: \" + str(Predictions.shape))"
   ]
  },
  {
   "cell_type": "code",
   "execution_count": 661,
   "id": "47b0471d",
   "metadata": {},
   "outputs": [
    {
     "data": {
      "text/html": [
       "<div>\n",
       "<style scoped>\n",
       "    .dataframe tbody tr th:only-of-type {\n",
       "        vertical-align: middle;\n",
       "    }\n",
       "\n",
       "    .dataframe tbody tr th {\n",
       "        vertical-align: top;\n",
       "    }\n",
       "\n",
       "    .dataframe thead th {\n",
       "        text-align: right;\n",
       "    }\n",
       "</style>\n",
       "<table border=\"1\" class=\"dataframe\">\n",
       "  <thead>\n",
       "    <tr style=\"text-align: right;\">\n",
       "      <th></th>\n",
       "      <th>Prediction</th>\n",
       "      <th>Actual</th>\n",
       "    </tr>\n",
       "    <tr>\n",
       "      <th>Date</th>\n",
       "      <th></th>\n",
       "      <th></th>\n",
       "    </tr>\n",
       "  </thead>\n",
       "  <tbody>\n",
       "    <tr>\n",
       "      <th>2023-01-02</th>\n",
       "      <td>0.097278</td>\n",
       "      <td>0.053983</td>\n",
       "    </tr>\n",
       "    <tr>\n",
       "      <th>2023-01-03</th>\n",
       "      <td>0.113220</td>\n",
       "      <td>0.105264</td>\n",
       "    </tr>\n",
       "    <tr>\n",
       "      <th>2023-01-04</th>\n",
       "      <td>0.111580</td>\n",
       "      <td>0.107859</td>\n",
       "    </tr>\n",
       "    <tr>\n",
       "      <th>2023-01-05</th>\n",
       "      <td>0.116376</td>\n",
       "      <td>0.097042</td>\n",
       "    </tr>\n",
       "    <tr>\n",
       "      <th>2023-01-06</th>\n",
       "      <td>0.137502</td>\n",
       "      <td>0.102379</td>\n",
       "    </tr>\n",
       "    <tr>\n",
       "      <th>2023-01-09</th>\n",
       "      <td>0.103767</td>\n",
       "      <td>0.101437</td>\n",
       "    </tr>\n",
       "    <tr>\n",
       "      <th>2023-01-10</th>\n",
       "      <td>0.098066</td>\n",
       "      <td>0.096760</td>\n",
       "    </tr>\n",
       "    <tr>\n",
       "      <th>2023-01-11</th>\n",
       "      <td>0.094910</td>\n",
       "      <td>0.110032</td>\n",
       "    </tr>\n",
       "    <tr>\n",
       "      <th>2023-01-12</th>\n",
       "      <td>0.104099</td>\n",
       "      <td>0.107744</td>\n",
       "    </tr>\n",
       "    <tr>\n",
       "      <th>2023-01-13</th>\n",
       "      <td>0.103011</td>\n",
       "      <td>0.137713</td>\n",
       "    </tr>\n",
       "    <tr>\n",
       "      <th>2023-01-16</th>\n",
       "      <td>0.042060</td>\n",
       "      <td>0.044766</td>\n",
       "    </tr>\n",
       "    <tr>\n",
       "      <th>2023-01-17</th>\n",
       "      <td>0.093949</td>\n",
       "      <td>0.141808</td>\n",
       "    </tr>\n",
       "    <tr>\n",
       "      <th>2023-01-18</th>\n",
       "      <td>0.108682</td>\n",
       "      <td>0.162798</td>\n",
       "    </tr>\n",
       "  </tbody>\n",
       "</table>\n",
       "</div>"
      ],
      "text/plain": [
       "            Prediction    Actual\n",
       "Date                            \n",
       "2023-01-02    0.097278  0.053983\n",
       "2023-01-03    0.113220  0.105264\n",
       "2023-01-04    0.111580  0.107859\n",
       "2023-01-05    0.116376  0.097042\n",
       "2023-01-06    0.137502  0.102379\n",
       "2023-01-09    0.103767  0.101437\n",
       "2023-01-10    0.098066  0.096760\n",
       "2023-01-11    0.094910  0.110032\n",
       "2023-01-12    0.104099  0.107744\n",
       "2023-01-13    0.103011  0.137713\n",
       "2023-01-16    0.042060  0.044766\n",
       "2023-01-17    0.093949  0.141808\n",
       "2023-01-18    0.108682  0.162798"
      ]
     },
     "execution_count": 661,
     "metadata": {},
     "output_type": "execute_result"
    }
   ],
   "source": [
    "Pred_df=pd.DataFrame( {\"Prediction\": Predictions, \"Actual\": y_test})\n",
    "Sorted_pred_df =Pred_df.sort_values(by=['Date'])\n",
    "Sorted_pred_df"
   ]
  },
  {
   "cell_type": "code",
   "execution_count": 662,
   "id": "397c5418",
   "metadata": {},
   "outputs": [
    {
     "data": {
      "text/plain": [
       "(0.0, 0.2)"
      ]
     },
     "execution_count": 662,
     "metadata": {},
     "output_type": "execute_result"
    },
    {
     "data": {
      "image/png": "[encoded data removed]",
      "text/plain": [
       "<Figure size 1152x720 with 1 Axes>"
      ]
     },
     "metadata": {
      "needs_background": "light"
     },
     "output_type": "display_data"
    }
   ],
   "source": [
    "fig, ax = plt.subplots(figsize=(16, 10))\n",
    "ax.plot(Sorted_pred_df.Prediction, color='blue', linestyle= '--')\n",
    "ax.plot(Sorted_pred_df.Actual, color='green')\n",
    "ax.set(title = \"High & Low Prices of Automobile Companies\",\n",
    "       xlabel = \"Date\",\n",
    "       ylabel = \"Stock Prices\")\n",
    "\n",
    "\n",
    "plt.ylim(0, 0.2)\n",
    "\n"
   ]
  },
  {
   "cell_type": "code",
   "execution_count": 678,
   "id": "204af4a1",
   "metadata": {},
   "outputs": [
    {
     "data": {
      "text/plain": [
       "(0.0, 0.2)"
      ]
     },
     "execution_count": 678,
     "metadata": {},
     "output_type": "execute_result"
    },
    {
     "data": {
      "image/png": "[encoded data removed]",
      "text/plain": [
       "<Figure size 1152x720 with 1 Axes>"
      ]
     },
     "metadata": {
      "needs_background": "light"
     },
     "output_type": "display_data"
    }
   ],
   "source": [
    "fig, ax = plt.subplots(figsize=(16, 10))\n",
    "ax.scatter(Sorted_pred_df.index,Sorted_pred_df.Prediction,color='blue', linestyle= '--')\n",
    "ax.plot(Sorted_pred_df.Actual, color='green')\n",
    "plt.ylim(0, 0.2)"
   ]
  },
  {
   "cell_type": "code",
   "execution_count": 665,
   "id": "25846a6a",
   "metadata": {},
   "outputs": [
    {
     "name": "stdout",
     "output_type": "stream",
     "text": [
      "Prediction score: 0.15985009293187202\n"
     ]
    }
   ],
   "source": [
    "r2 = model.score(X_test, y_test)\n",
    "\n",
    "print(\"Prediction score: \" + str(r2))"
   ]
  }
 ],
 "metadata": {
  "kernelspec": {
   "display_name": "Python 3 (ipykernel)",
   "language": "python",
   "name": "python3"
  },
  "language_info": {
   "codemirror_mode": {
    "name": "ipython",
    "version": 3
   },
   "file_extension": ".py",
   "mimetype": "text/x-python",
   "name": "python",
   "nbconvert_exporter": "python",
   "pygments_lexer": "ipython3",
   "version": "3.9.12"
  }
 },
 "nbformat": 4,
 "nbformat_minor": 5
}
