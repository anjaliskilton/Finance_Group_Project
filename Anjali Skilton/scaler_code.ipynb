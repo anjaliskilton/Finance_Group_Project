{
 "cells": [
  {
   "cell_type": "code",
   "execution_count": null,
   "metadata": {},
   "outputs": [],
   "source": [
    "import pandas as pd\n",
    "import os\n",
    "\n",
    "# File to Load\n",
    "mat_data = \"All_Material.csv\"\n",
    "\n",
    "# Read file\n",
    "mat_df = pd.read_csv(mat_data)\n",
    "\n",
    "X = mat_df.iloc[:, 1:31]\n",
    "\n",
    "from sklearn.preprocessing import MinMaxScaler\n",
    "\n",
    "scaler = MinMaxScaler().fit(X)\n",
    "\n",
    "X_scaled = scaler.transform(X)\n",
    "\n",
    "scaled_df = pd.DataFrame(X_scaled, columns= ['alb_volume','apd_volume','dd_volume','ecl_volume','fcx_volume','lyb_volume','nem_volume','ppg_volume','scco_volume','shw_volume','alb_high','apd_high','dd_high','ecl_high','fcx_high','lyb_high','nem_high',\t'ppg_high','scco_high','shw_high','alb_low','apd_low',\t'dd_low','ecl_low','fcx_low','lyb_low','nem_low','ppg_low','scco_low','shw_low'\n",
    "])\n",
    "\n",
    "scaled_df.to_csv(\"mat_scaled.csv\")"
   ]
  },
  {
   "cell_type": "code",
   "execution_count": null,
   "metadata": {},
   "outputs": [],
   "source": []
  }
 ],
 "metadata": {
  "kernelspec": {
   "display_name": "Python 3",
   "language": "python",
   "name": "python3"
  },
  "language_info": {
   "name": "python",
   "version": "3.10.9 (tags/v3.10.9:1dd9be6, Dec  6 2022, 20:01:21) [MSC v.1934 64 bit (AMD64)]"
  },
  "orig_nbformat": 4,
  "vscode": {
   "interpreter": {
    "hash": "1aaf7580cc78ab945d13b087dd386c5bc0f46a3357776b26f5f4f1322a5ba475"
   }
  }
 },
 "nbformat": 4,
 "nbformat_minor": 2
}
