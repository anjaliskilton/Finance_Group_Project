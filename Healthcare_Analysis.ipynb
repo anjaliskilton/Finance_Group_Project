{
 "cells": [
  {
   "cell_type": "code",
   "execution_count": null,
   "id": "87094775",
   "metadata": {},
   "outputs": [],
   "source": [
    "import pandas as pd\n",
    "import hvplot.pandas\n",
    "from pathlib import Path\n",
    "import plotly.express as px\n",
    "import matplotlib.pyplot as plt\n",
    "from sklearn.preprocessing import StandardScaler\n",
    "from sklearn.preprocessing import MinMaxScaler\n",
    "from sklearn import preprocessing"
   ]
  },
  {
   "cell_type": "code",
   "execution_count": null,
   "id": "140fa940",
   "metadata": {},
   "outputs": [],
   "source": [
    "def minMaxScale(df):\n",
    "    columns = ['High','Low','Volume']\n",
    "    min_max_scaler = preprocessing.MinMaxScaler()\n",
    "    normDf = df.copy()\n",
    "    normDf[columns] = pd.DataFrame(min_max_scaler.fit_transform(normDf[columns]))\n",
    "    return normDf\n",
    "\n",
    "def readStock(filename):\n",
    "    filePath = basePath+filename\n",
    "    df = pd.read_csv(filePath).dropna()\n",
    "    df['Date'] = pd.to_datetime(df['Date'])\n",
    "    df1 = df[['Date','High','Low','Volume']]\n",
    "    \n",
    "    return minMaxScale(df1)"
   ]
  },
  {
   "cell_type": "code",
   "execution_count": null,
   "id": "de372f0d",
   "metadata": {},
   "outputs": [],
   "source": [
    "ABBV_Df = readStock(\"ABBV.csv\")\n",
    "AMN_Df= readStock(\"AMN.csv\")\n",
    "DHC_Df= readStock(\"DHC.csv\")\n",
    "GILD_Df= readStock(\"GILD.csv\")\n",
    "GSK_Df= readStock(\"GSK.csv\")\n",
    "HCA_Df= readStock(\"HCA.csv\")\n",
    "JNJ_Df= readStock(\"JNJ.csv\")\n",
    "OHI_Df= readStock(\"OHI.csv\")\n",
    "SNY_Df = readStock(\"SNY.csv\")\n",
    "TAK_Df= readStock(\"TAK.csv\")"
   ]
  },
  {
   "cell_type": "code",
   "execution_count": null,
   "id": "4eb1e165",
   "metadata": {},
   "outputs": [],
   "source": [
    "ABBV_Df.head(10)"
   ]
  },
  {
   "cell_type": "code",
   "execution_count": null,
   "id": "8d0f94c2",
   "metadata": {},
   "outputs": [],
   "source": [
    "Healthcare_df = pd.concat([ABBV_Df,\n",
    "AMN_Df,\n",
    "DHC_Df,\n",
    "GILD_Df,\n",
    "GSK_Df,\n",
    "HCA_Df,\n",
    "JNJ_Df,\n",
    "OHI_Df,\n",
    "SNY_Df,\n",
    "TAK_Df])"
   ]
  },
  {
   "cell_type": "code",
   "execution_count": 3,
   "id": "c8e1590a",
   "metadata": {},
   "outputs": [
    {
     "ename": "NameError",
     "evalue": "name 'Healthcare_df' is not defined",
     "output_type": "error",
     "traceback": [
      "\u001b[1;31m---------------------------------------------------------------------------\u001b[0m",
      "\u001b[1;31mNameError\u001b[0m                                 Traceback (most recent call last)",
      "\u001b[1;32m~\\AppData\\Local\\Temp\\ipykernel_12608\\1203469700.py\u001b[0m in \u001b[0;36m<module>\u001b[1;34m\u001b[0m\n\u001b[1;32m----> 1\u001b[1;33m \u001b[0mHealthcare_df\u001b[0m\u001b[1;33m.\u001b[0m\u001b[0mhead\u001b[0m\u001b[1;33m(\u001b[0m\u001b[1;36m10\u001b[0m\u001b[1;33m)\u001b[0m\u001b[1;33m\u001b[0m\u001b[1;33m\u001b[0m\u001b[0m\n\u001b[0m",
      "\u001b[1;31mNameError\u001b[0m: name 'Healthcare_df' is not defined"
     ]
    }
   ],
   "source": [
    "Healthcare_df.head(10)"
   ]
  },
  {
   "cell_type": "code",
   "execution_count": null,
   "id": "258bfacf",
   "metadata": {},
   "outputs": [],
   "source": [
    "Healthcare_df.info()"
   ]
  },
  {
   "cell_type": "code",
   "execution_count": null,
   "id": "fa24bd70",
   "metadata": {},
   "outputs": [],
   "source": [
    "Healthcare_df.describe()"
   ]
  },
  {
   "cell_type": "code",
   "execution_count": null,
   "id": "5f5030d3",
   "metadata": {},
   "outputs": [],
   "source": [
    "Healthcare_df.head(10)"
   ]
  },
  {
   "cell_type": "code",
   "execution_count": null,
   "id": "d391d2ee",
   "metadata": {},
   "outputs": [],
   "source": [
    "df_Healthcare = Healthcare_df.groupby('Date')[['High','Low','Volume']].mean().dropna()"
   ]
  },
  {
   "cell_type": "code",
   "execution_count": null,
   "id": "d50b32d1",
   "metadata": {},
   "outputs": [],
   "source": [
    "df_Healthcare"
   ]
  },
  {
   "cell_type": "code",
   "execution_count": null,
   "id": "f8226355",
   "metadata": {},
   "outputs": [],
   "source": [
    "df_Healthcare.describe()"
   ]
  },
  {
   "cell_type": "code",
   "execution_count": null,
   "id": "2216da64",
   "metadata": {},
   "outputs": [],
   "source": [
    "fig, ax = plt.subplots(figsize=(16, 10))\n",
    "ax.plot(df_Healthcare.Volume, color='grey', linestyle= '-')\n",
    "ax.set(title = \"Historical stock Volume trading\",\n",
    "       xlabel = \"Date\",\n",
    "       ylabel = \"Volume Trading\")\n",
    "\n",
    "\n",
    "plt.ylim(0, 0.7)"
   ]
  },
  {
   "cell_type": "code",
   "execution_count": null,
   "id": "fc753a5f",
   "metadata": {},
   "outputs": [],
   "source": [
    "df_Healthcare.to_csv('Scaled_Data_Averaged.csv', encoding='utf-8')"
   ]
  },
  {
   "cell_type": "code",
   "execution_count": null,
   "id": "a2c54447",
   "metadata": {},
   "outputs": [],
   "source": [
    "Sorted_df = df_Healthcare.sort_values(by=['Date'])\n",
    "Sorted_df"
   ]
  },
  {
   "cell_type": "code",
   "execution_count": null,
   "id": "b8bc3378",
   "metadata": {},
   "outputs": [],
   "source": [
    "fig, ax = plt.subplots(figsize=(16, 10))\n",
    "ax.plot(Sorted_df.High, color='red', linestyle= '--')\n",
    "ax.plot(Sorted_df.Low, color='green')\n",
    "ax.set(title = \"High & Low Prices of Automobile Companies\",\n",
    "       xlabel = \"Date\",\n",
    "       ylabel = \"Stock Prices\")\n",
    "\n",
    "\n",
    "plt.ylim(0, 1)"
   ]
  },
  {
   "cell_type": "code",
   "execution_count": null,
   "id": "e7e140e7",
   "metadata": {},
   "outputs": [],
   "source": []
  },
  {
   "cell_type": "code",
   "execution_count": null,
   "id": "fb2eb5af",
   "metadata": {},
   "outputs": [],
   "source": [
    "from sklearn.linear_model import LinearRegression\n",
    "from sklearn.metrics import confusion_matrix, accuracy_score, classification_report"
   ]
  },
  {
   "cell_type": "code",
   "execution_count": null,
   "id": "20f4366f",
   "metadata": {},
   "outputs": [],
   "source": [
    "train_df = Sorted_df[(Sorted_df.index < '2023-01-01')]\n",
    "X_train = train_df[['High','Low']]\n",
    "y_train = train_df['Volume']\n",
    "\n",
    "\n",
    "test_df = Sorted_df[(Sorted_df.index >= '2023-01-01')]\n",
    "X_test = test_df[['High', 'Low']]\n",
    "y_test = test_df['Volume']\n",
    "\n",
    "  \n",
    "print(\"TRAIN\")\n",
    "print(\"Y train Shape: \" + str(y_train.shape))\n",
    "print(\"X train Shape: \" + str(X_train.shape))\n",
    "\n",
    "print(\"\\nTEST\")\n",
    "print(\"Y test Shape: \" + str(y_test.shape))\n",
    "print(\"X test Shape: \" + str(X_test.shape))"
   ]
  },
  {
   "cell_type": "code",
   "execution_count": null,
   "id": "c517015d",
   "metadata": {},
   "outputs": [],
   "source": [
    "model = LinearRegression()"
   ]
  },
  {
   "cell_type": "code",
   "execution_count": null,
   "id": "d6acb470",
   "metadata": {},
   "outputs": [],
   "source": [
    "model.fit(X_train, y_train)"
   ]
  },
  {
   "cell_type": "code",
   "execution_count": null,
   "id": "3cc863cc",
   "metadata": {},
   "outputs": [],
   "source": [
    "print('Intercept:', model.intercept_)\n",
    "print('Coefficients:', model.coef_)"
   ]
  },
  {
   "cell_type": "code",
   "execution_count": null,
   "id": "a7bb7eb4",
   "metadata": {},
   "outputs": [],
   "source": [
    "r2 = model.score(X_train, y_train)\n",
    "print(\"Model R2: \" + str(r2))"
   ]
  },
  {
   "cell_type": "code",
   "execution_count": null,
   "id": "bf0b3992",
   "metadata": {},
   "outputs": [],
   "source": [
    "import statsmodels\n",
    "import statsmodels.api as sm\n",
    "import statsmodels.formula.api as smf\n",
    "import statsmodels.stats.api as sms"
   ]
  },
  {
   "cell_type": "code",
   "execution_count": null,
   "id": "517e5282",
   "metadata": {},
   "outputs": [],
   "source": [
    "X = sm.add_constant(X_train) # adding a constant\n",
    "\n",
    "olsmod = sm.OLS(y_train, X).fit()\n",
    "print(olsmod.summary())"
   ]
  },
  {
   "cell_type": "code",
   "execution_count": null,
   "id": "af39aa63",
   "metadata": {},
   "outputs": [],
   "source": [
    "print('R2 score:', olsmod.rsquared)"
   ]
  },
  {
   "cell_type": "code",
   "execution_count": null,
   "id": "5468944b",
   "metadata": {},
   "outputs": [],
   "source": [
    "print(\"\\nTEST\")\n",
    "print(\"Y test Shape: \" + str(y_test.shape))\n",
    "print(\"X test Shape: \" + str(X_test.shape))"
   ]
  },
  {
   "cell_type": "code",
   "execution_count": null,
   "id": "055a2be9",
   "metadata": {},
   "outputs": [],
   "source": [
    "Predictions = model.predict(X_test)\n",
    "\n",
    "print(\"prediction shape: \" + str(Predictions.shape))"
   ]
  },
  {
   "cell_type": "code",
   "execution_count": null,
   "id": "3bc32142",
   "metadata": {},
   "outputs": [],
   "source": [
    "Pred_df=pd.DataFrame( {\"Prediction\": Predictions, \"Actual\": y_test})\n",
    "Sorted_pred_df =Pred_df.sort_values(by=['Date'])\n",
    "Sorted_pred_df"
   ]
  },
  {
   "cell_type": "code",
   "execution_count": null,
   "id": "103eeaec",
   "metadata": {},
   "outputs": [],
   "source": [
    "fig, ax = plt.subplots(figsize=(12, 8))\n",
    "ax.plot(Sorted_pred_df.Prediction, color='blue', linestyle= '--')\n",
    "ax.plot(Sorted_pred_df.Actual, color='green')\n",
    "ax.set(title = \"High & Low Prices of Healthcare Companies\",\n",
    "       xlabel = \"Date\",\n",
    "       ylabel = \"Stock Prices\")\n",
    "\n",
    "\n",
    "plt.ylim(0, 0.2)"
   ]
  },
  {
   "cell_type": "code",
   "execution_count": null,
   "id": "3eefb34c",
   "metadata": {},
   "outputs": [],
   "source": [
    "fig, ax = plt.subplots(figsize=(16, 10))\n",
    "ax.scatter(Sorted_pred_df.index,Sorted_pred_df.Prediction,color='blue', linestyle= '--')\n",
    "ax.plot(Sorted_pred_df.Actual, color='green')\n",
    "plt.ylim(0, 0.2)"
   ]
  },
  {
   "cell_type": "code",
   "execution_count": null,
   "id": "018b2849",
   "metadata": {},
   "outputs": [],
   "source": []
  },
  {
   "cell_type": "code",
   "execution_count": null,
   "id": "778a24f8",
   "metadata": {},
   "outputs": [],
   "source": [
    "# Prepare data\n",
    "X = df_Healthcare[['High', 'Low']].values.reshape(-1,2)\n",
    "Y = df_Healthcare['Volume']\n",
    "\n",
    "# Create range for each dimension\n",
    "x = X[:, 0]\n",
    "y = X[:, 1]\n",
    "z = Y\n",
    "\n",
    "\n",
    "\n",
    "xx_pred = np.linspace(0, 1,20)  # range of High  values\n",
    "\n",
    "yy_pred = np.linspace(0,1,20)  # range of Low values\n",
    "xx_pred, yy_pred = np.meshgrid(xx_pred, yy_pred)\n",
    "model_viz = np.array([xx_pred.flatten(), yy_pred.flatten()]).T"
   ]
  },
  {
   "cell_type": "code",
   "execution_count": null,
   "id": "0f1cdc80",
   "metadata": {},
   "outputs": [],
   "source": [
    "predicted = model.predict(model_viz)\n",
    "\n",
    "# Evaluate model by using it's R^2 score \n",
    "r2 = model.score(X, Y)\n",
    "\n",
    "# Plot model visualization\n",
    "plt.style.use('fivethirtyeight')\n",
    "\n",
    "fig = plt.figure(figsize=(12, 6))\n",
    "\n",
    "ax1 = fig.add_subplot(131, projection='3d')\n",
    "ax2 = fig.add_subplot(132, projection='3d')\n",
    "ax3 = fig.add_subplot(133, projection='3d')\n",
    "\n",
    "axes = [ax1, ax2, ax3]\n",
    "\n",
    "for ax in axes:\n",
    "    ax.plot(x, y, z, color='#32a891', zorder=15, linestyle='-', marker='*', alpha=0.5)\n",
    "    ax.scatter(xx_pred.flatten(), yy_pred.flatten(), predicted, facecolor=(0,0,0,0), s=20, edgecolor='#150e57')\n",
    "    ax.set_xlabel('High Price of Stocks', fontsize=12)\n",
    "    ax.set_ylabel('Low Prices of Stocks', fontsize=12)\n",
    "    ax.set_zlabel('Volume trading ', fontsize=12)\n",
    "    ax.locator_params(nbins=4, axis='x')\n",
    "    ax.locator_params(nbins=5, axis='x')\n",
    "\n",
    "    \n",
    "\n",
    "\n",
    "ax1.view_init(elev=20, azim=-60)\n",
    "ax2.view_init(elev=25, azim=15)\n",
    "ax3.view_init(elev=15, azim=60)\n",
    "\n",
    "fig.suptitle('Multi-Linear Regression Model Visualization ($R^2 = %.2f$)' % r2, fontsize=15, color='k')\n",
    "\n",
    "fig.tight_layout()"
   ]
  },
  {
   "cell_type": "code",
   "execution_count": null,
   "id": "b9cc28e8",
   "metadata": {},
   "outputs": [],
   "source": [
    "import seaborn as sns"
   ]
  },
  {
   "cell_type": "code",
   "execution_count": null,
   "id": "fd94d6eb",
   "metadata": {},
   "outputs": [],
   "source": [
    "corr = Healthcare_df[['Volume', 'High', 'Low']].corr()\n",
    "print('Pearson correlation coefficient matrix of each variables:\\n', corr)\n",
    "\n",
    "# Generate a mask for the diagonal cell\n",
    "mask = np.zeros_like(corr, dtype=np.bool)\n",
    "#np.fill_diagonal(mask, val=True)\n",
    "\n",
    "# Initialize matplotlib figure\n",
    "fig, ax = plt.subplots(figsize=(4, 3))\n",
    "\n",
    "# Generate a custom diverging colormap\n",
    "cmap = sns.diverging_palette(220, 10, as_cmap=True, sep=100)\n",
    "cmap.set_bad('grey')\n",
    "\n",
    "# Draw the heatmap with the mask and correct aspect ratio\n",
    "sns.heatmap(corr, mask=mask, cmap=cmap, vmin=-1, vmax=1, center=0, linewidths=.5)\n",
    "fig.suptitle('Pearson correlation coefficient matrix', fontsize=14)\n",
    "ax.tick_params(axis='both', which='major', labelsize=10)\n",
    "# fig.tight_layout()"
   ]
  },
  {
   "cell_type": "code",
   "execution_count": null,
   "id": "74c53ac0",
   "metadata": {},
   "outputs": [],
   "source": []
  }
 ],
 "metadata": {
  "kernelspec": {
   "display_name": "Python 3 (ipykernel)",
   "language": "python",
   "name": "python3"
  },
  "language_info": {
   "codemirror_mode": {
    "name": "ipython",
    "version": 3
   },
   "file_extension": ".py",
   "mimetype": "text/x-python",
   "name": "python",
   "nbconvert_exporter": "python",
   "pygments_lexer": "ipython3",
   "version": "3.9.13"
  }
 },
 "nbformat": 4,
 "nbformat_minor": 5
}
